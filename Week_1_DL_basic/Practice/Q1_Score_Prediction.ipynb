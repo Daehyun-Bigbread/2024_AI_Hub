{
  "nbformat": 4,
  "nbformat_minor": 0,
  "metadata": {
    "colab": {
      "provenance": []
    },
    "kernelspec": {
      "display_name": "Python 3",
      "language": "python",
      "name": "python3"
    },
    "language_info": {
      "codemirror_mode": {
        "name": "ipython",
        "version": 3
      },
      "file_extension": ".py",
      "mimetype": "text/x-python",
      "name": "python",
      "nbconvert_exporter": "python",
      "pygments_lexer": "ipython3",
      "version": "3.6.8"
    }
  },
  "cells": [
    {
      "cell_type": "markdown",
      "metadata": {
        "id": "Bher0I-oBtGy"
      },
      "source": [
        "# Score prediction\n"
      ]
    },
    {
      "cell_type": "code",
      "source": [
        "# !pip install tensorflow-gpu"
      ],
      "metadata": {
        "id": "8m4xH38qAMCv"
      },
      "execution_count": 2,
      "outputs": []
    },
    {
      "cell_type": "code",
      "metadata": {
        "id": "ENBsugN3Z25Z",
        "colab": {
          "base_uri": "https://localhost:8080/",
          "height": 35
        },
        "outputId": "bc4b35ff-80ee-4572-fb1e-12e3e5e88850"
      },
      "source": [
        "import tensorflow as tf\n",
        "import numpy as np\n",
        "import matplotlib.pyplot as plt\n",
        "\n",
        "tf.__version__"
      ],
      "execution_count": 3,
      "outputs": [
        {
          "output_type": "execute_result",
          "data": {
            "text/plain": [
              "'2.15.0'"
            ],
            "application/vnd.google.colaboratory.intrinsic+json": {
              "type": "string"
            }
          },
          "metadata": {},
          "execution_count": 3
        }
      ]
    },
    {
      "cell_type": "code",
      "metadata": {
        "id": "BjYm5bN6mMh2",
        "colab": {
          "base_uri": "https://localhost:8080/"
        },
        "outputId": "fb9ce64d-9546-419b-8283-af1c223b2622"
      },
      "source": [
        "# In colab\n",
        "from google.colab import drive\n",
        "drive.mount('/content/drive')"
      ],
      "execution_count": 4,
      "outputs": [
        {
          "output_type": "stream",
          "name": "stdout",
          "text": [
            "Mounted at /content/drive\n"
          ]
        }
      ]
    },
    {
      "cell_type": "markdown",
      "metadata": {
        "id": "yueZUuFrBtG2"
      },
      "source": [
        "## Setting Data\n",
        "* 데이터를 불러와봅시다."
      ]
    },
    {
      "cell_type": "code",
      "metadata": {
        "id": "8tyyJQoVZtv6",
        "colab": {
          "base_uri": "https://localhost:8080/"
        },
        "outputId": "93e93d47-0e3c-43a7-d544-1172fc0de032"
      },
      "source": [
        "xy = np.loadtxt(\"/content/drive/MyDrive/dataset/example_data/data-01-test-score.csv\", #Set data path\n",
        "                delimiter=',',\n",
        "                dtype=np.float32)\n",
        "print(xy)\n",
        "\n",
        "x_train = xy[:, 0:-1]\n",
        "y_train = xy[:, [-1]]\n",
        "\n",
        "print(x_train, y_train)\n",
        "\n",
        "print(x_train.shape, y_train.shape)\n"
      ],
      "execution_count": 6,
      "outputs": [
        {
          "output_type": "stream",
          "name": "stdout",
          "text": [
            "[[ 73.  80.  75. 152.]\n",
            " [ 93.  88.  93. 185.]\n",
            " [ 89.  91.  90. 180.]\n",
            " [ 96.  98. 100. 196.]\n",
            " [ 73.  66.  70. 142.]\n",
            " [ 53.  46.  55. 101.]\n",
            " [ 69.  74.  77. 149.]\n",
            " [ 47.  56.  60. 115.]\n",
            " [ 87.  79.  90. 175.]\n",
            " [ 79.  70.  88. 164.]\n",
            " [ 69.  70.  73. 141.]\n",
            " [ 70.  65.  74. 141.]\n",
            " [ 93.  95.  91. 184.]\n",
            " [ 79.  80.  73. 152.]\n",
            " [ 70.  73.  78. 148.]\n",
            " [ 93.  89.  96. 192.]\n",
            " [ 78.  75.  68. 147.]\n",
            " [ 81.  90.  93. 183.]\n",
            " [ 88.  92.  86. 177.]\n",
            " [ 78.  83.  77. 159.]\n",
            " [ 82.  86.  90. 177.]\n",
            " [ 86.  82.  89. 175.]\n",
            " [ 78.  83.  85. 175.]\n",
            " [ 76.  83.  71. 149.]\n",
            " [ 96.  93.  95. 192.]]\n",
            "[[ 73.  80.  75.]\n",
            " [ 93.  88.  93.]\n",
            " [ 89.  91.  90.]\n",
            " [ 96.  98. 100.]\n",
            " [ 73.  66.  70.]\n",
            " [ 53.  46.  55.]\n",
            " [ 69.  74.  77.]\n",
            " [ 47.  56.  60.]\n",
            " [ 87.  79.  90.]\n",
            " [ 79.  70.  88.]\n",
            " [ 69.  70.  73.]\n",
            " [ 70.  65.  74.]\n",
            " [ 93.  95.  91.]\n",
            " [ 79.  80.  73.]\n",
            " [ 70.  73.  78.]\n",
            " [ 93.  89.  96.]\n",
            " [ 78.  75.  68.]\n",
            " [ 81.  90.  93.]\n",
            " [ 88.  92.  86.]\n",
            " [ 78.  83.  77.]\n",
            " [ 82.  86.  90.]\n",
            " [ 86.  82.  89.]\n",
            " [ 78.  83.  85.]\n",
            " [ 76.  83.  71.]\n",
            " [ 96.  93.  95.]] [[152.]\n",
            " [185.]\n",
            " [180.]\n",
            " [196.]\n",
            " [142.]\n",
            " [101.]\n",
            " [149.]\n",
            " [115.]\n",
            " [175.]\n",
            " [164.]\n",
            " [141.]\n",
            " [141.]\n",
            " [184.]\n",
            " [152.]\n",
            " [148.]\n",
            " [192.]\n",
            " [147.]\n",
            " [183.]\n",
            " [177.]\n",
            " [159.]\n",
            " [177.]\n",
            " [175.]\n",
            " [175.]\n",
            " [149.]\n",
            " [192.]]\n",
            "(25, 3) (25, 1)\n"
          ]
        }
      ]
    },
    {
      "cell_type": "markdown",
      "metadata": {
        "id": "oy0VqPPVBtG5"
      },
      "source": [
        "## make a dataset"
      ]
    },
    {
      "cell_type": "code",
      "metadata": {
        "id": "1IREOA4UBtG6"
      },
      "source": [
        "dataset = tf.data.Dataset.from_tensor_slices((x_train, y_train))\n",
        "dataset = dataset.batch(batch_size=len(x_train)) # batch_size=8 int형으로 입력하시면 됩니다.\n"
      ],
      "execution_count": 7,
      "outputs": []
    },
    {
      "cell_type": "code",
      "source": [
        "next(iter(dataset))"
      ],
      "metadata": {
        "colab": {
          "base_uri": "https://localhost:8080/"
        },
        "id": "nMQyVCcsA7lS",
        "outputId": "97c6883e-07c9-4027-c9a2-9506a9e91d89"
      },
      "execution_count": 8,
      "outputs": [
        {
          "output_type": "execute_result",
          "data": {
            "text/plain": [
              "(<tf.Tensor: shape=(25, 3), dtype=float32, numpy=\n",
              " array([[ 73.,  80.,  75.],\n",
              "        [ 93.,  88.,  93.],\n",
              "        [ 89.,  91.,  90.],\n",
              "        [ 96.,  98., 100.],\n",
              "        [ 73.,  66.,  70.],\n",
              "        [ 53.,  46.,  55.],\n",
              "        [ 69.,  74.,  77.],\n",
              "        [ 47.,  56.,  60.],\n",
              "        [ 87.,  79.,  90.],\n",
              "        [ 79.,  70.,  88.],\n",
              "        [ 69.,  70.,  73.],\n",
              "        [ 70.,  65.,  74.],\n",
              "        [ 93.,  95.,  91.],\n",
              "        [ 79.,  80.,  73.],\n",
              "        [ 70.,  73.,  78.],\n",
              "        [ 93.,  89.,  96.],\n",
              "        [ 78.,  75.,  68.],\n",
              "        [ 81.,  90.,  93.],\n",
              "        [ 88.,  92.,  86.],\n",
              "        [ 78.,  83.,  77.],\n",
              "        [ 82.,  86.,  90.],\n",
              "        [ 86.,  82.,  89.],\n",
              "        [ 78.,  83.,  85.],\n",
              "        [ 76.,  83.,  71.],\n",
              "        [ 96.,  93.,  95.]], dtype=float32)>,\n",
              " <tf.Tensor: shape=(25, 1), dtype=float32, numpy=\n",
              " array([[152.],\n",
              "        [185.],\n",
              "        [180.],\n",
              "        [196.],\n",
              "        [142.],\n",
              "        [101.],\n",
              "        [149.],\n",
              "        [115.],\n",
              "        [175.],\n",
              "        [164.],\n",
              "        [141.],\n",
              "        [141.],\n",
              "        [184.],\n",
              "        [152.],\n",
              "        [148.],\n",
              "        [192.],\n",
              "        [147.],\n",
              "        [183.],\n",
              "        [177.],\n",
              "        [159.],\n",
              "        [177.],\n",
              "        [175.],\n",
              "        [175.],\n",
              "        [149.],\n",
              "        [192.]], dtype=float32)>)"
            ]
          },
          "metadata": {},
          "execution_count": 8
        }
      ]
    },
    {
      "cell_type": "code",
      "source": [
        "for x, y in dataset:\n",
        "  print(x, y)\n",
        "  break"
      ],
      "metadata": {
        "colab": {
          "base_uri": "https://localhost:8080/"
        },
        "id": "Pk3LMsG6AIEV",
        "outputId": "74e3e946-4c95-4e19-e106-926dea158626"
      },
      "execution_count": 9,
      "outputs": [
        {
          "output_type": "stream",
          "name": "stdout",
          "text": [
            "tf.Tensor(\n",
            "[[ 73.  80.  75.]\n",
            " [ 93.  88.  93.]\n",
            " [ 89.  91.  90.]\n",
            " [ 96.  98. 100.]\n",
            " [ 73.  66.  70.]\n",
            " [ 53.  46.  55.]\n",
            " [ 69.  74.  77.]\n",
            " [ 47.  56.  60.]\n",
            " [ 87.  79.  90.]\n",
            " [ 79.  70.  88.]\n",
            " [ 69.  70.  73.]\n",
            " [ 70.  65.  74.]\n",
            " [ 93.  95.  91.]\n",
            " [ 79.  80.  73.]\n",
            " [ 70.  73.  78.]\n",
            " [ 93.  89.  96.]\n",
            " [ 78.  75.  68.]\n",
            " [ 81.  90.  93.]\n",
            " [ 88.  92.  86.]\n",
            " [ 78.  83.  77.]\n",
            " [ 82.  86.  90.]\n",
            " [ 86.  82.  89.]\n",
            " [ 78.  83.  85.]\n",
            " [ 76.  83.  71.]\n",
            " [ 96.  93.  95.]], shape=(25, 3), dtype=float32) tf.Tensor(\n",
            "[[152.]\n",
            " [185.]\n",
            " [180.]\n",
            " [196.]\n",
            " [142.]\n",
            " [101.]\n",
            " [149.]\n",
            " [115.]\n",
            " [175.]\n",
            " [164.]\n",
            " [141.]\n",
            " [141.]\n",
            " [184.]\n",
            " [152.]\n",
            " [148.]\n",
            " [192.]\n",
            " [147.]\n",
            " [183.]\n",
            " [177.]\n",
            " [159.]\n",
            " [177.]\n",
            " [175.]\n",
            " [175.]\n",
            " [149.]\n",
            " [192.]], shape=(25, 1), dtype=float32)\n"
          ]
        }
      ]
    },
    {
      "cell_type": "markdown",
      "metadata": {
        "id": "uF7T-bl2BtG8"
      },
      "source": [
        "# 가설 설정"
      ]
    },
    {
      "cell_type": "code",
      "metadata": {
        "id": "yy6hZwGy45kO",
        "colab": {
          "base_uri": "https://localhost:8080/"
        },
        "outputId": "cd3324fd-1622-42f4-b9c5-ebcc73905467"
      },
      "source": [
        "W = tf.Variable(tf.random.normal([3, 1]), name='weight')\n",
        "b = tf.Variable(tf.random.normal([1]), name='bias') # tf.keras.layers.Dense(1)\n",
        "\n",
        "tf.print(W, b)\n"
      ],
      "execution_count": 10,
      "outputs": [
        {
          "output_type": "stream",
          "name": "stdout",
          "text": [
            "[[-1.08416378]\n",
            " [-0.0588277578]\n",
            " [0.121951602]] [-2.1776197]\n"
          ]
        }
      ]
    },
    {
      "cell_type": "code",
      "metadata": {
        "id": "22WmI9ygawt_",
        "colab": {
          "base_uri": "https://localhost:8080/"
        },
        "outputId": "42f1f37b-0690-4962-e26a-782776c31f81"
      },
      "source": [
        "def linear_regression(features): # features => X 값이 들어올 예정\n",
        "    hypothesis  = tf.matmul(features, W) + b\n",
        "    return hypothesis\n",
        "\n",
        "print(linear_regression(x_train))"
      ],
      "execution_count": 11,
      "outputs": [
        {
          "output_type": "stream",
          "name": "stdout",
          "text": [
            "tf.Tensor(\n",
            "[[ -76.88143 ]\n",
            " [ -96.840195]\n",
            " [ -93.045876]\n",
            " [ -99.82731 ]\n",
            " [ -76.667595]\n",
            " [ -55.63704 ]\n",
            " [ -71.94791 ]\n",
            " [ -49.110573]\n",
            " [ -90.171616]\n",
            " [ -81.21276 ]\n",
            " [ -72.2004  ]\n",
            " [ -72.86847 ]\n",
            " [ -97.495895]\n",
            " [ -83.63032 ]\n",
            " [ -72.85129 ]\n",
            " [ -96.53317 ]\n",
            " [ -82.86176 ]\n",
            " [ -83.94789 ]\n",
            " [ -92.50835 ]\n",
            " [ -82.234825]\n",
            " [ -85.16259 ]\n",
            " [ -89.38589 ]\n",
            " [ -81.25922 ]\n",
            " [ -80.79821 ]\n",
            " [-100.14292 ]], shape=(25, 1), dtype=float32)\n"
          ]
        }
      ]
    },
    {
      "cell_type": "markdown",
      "metadata": {
        "id": "-J_yD5XEBtHB"
      },
      "source": [
        "# cost 함수 설정\n",
        "\n",
        "\n",
        "$$ cost(W)=\\frac { 1 }{ m } \\sum _{i=1}^{m}{ { ({ H(x_{ i }) }-y_{ i } })^{ 2 } }  $$"
      ]
    },
    {
      "cell_type": "code",
      "metadata": {
        "id": "RY6ssJoXarTa"
      },
      "source": [
        "def loss_fn(hypothesis, labels):\n",
        "    cost = tf.reduce_mean(tf.square(hypothesis - labels))\n",
        "    return cost\n",
        "\n",
        "optimizer = tf.compat.v1.train.GradientDescentOptimizer(learning_rate=0.00001)"
      ],
      "execution_count": 12,
      "outputs": []
    },
    {
      "cell_type": "markdown",
      "metadata": {
        "id": "ArFspp5PBtHG"
      },
      "source": [
        "# 학습"
      ]
    },
    {
      "cell_type": "code",
      "metadata": {
        "id": "wo2YiZdYaEQw",
        "colab": {
          "base_uri": "https://localhost:8080/"
        },
        "outputId": "93d75f64-456c-479c-bde2-6b1355d879f2"
      },
      "source": [
        "epochs = 5000\n",
        "\n",
        "for step in range(epochs):\n",
        "  for features, labels in dataset:\n",
        "    with tf.GradientTape() as tape:\n",
        "      pred = linear_regression(features) # 모델의 예측값을 구합니다.\n",
        "      loss_value = loss_fn(pred, labels)\n",
        "    grads = tape.gradient(loss_value, [W, b])\n",
        "    optimizer.apply_gradients(grads_and_vars=zip(grads,[W, b]))\n",
        "    if step % 100 == 0:\n",
        "          print(\"Iter: {}, Loss: {:.4f}\".format(step, loss_value))"
      ],
      "execution_count": 13,
      "outputs": [
        {
          "output_type": "stream",
          "name": "stdout",
          "text": [
            "Iter: 0, Loss: 61111.8555\n",
            "Iter: 100, Loss: 10.7164\n",
            "Iter: 200, Loss: 10.4267\n",
            "Iter: 300, Loss: 10.1555\n",
            "Iter: 400, Loss: 9.9015\n",
            "Iter: 500, Loss: 9.6636\n",
            "Iter: 600, Loss: 9.4406\n",
            "Iter: 700, Loss: 9.2316\n",
            "Iter: 800, Loss: 9.0356\n",
            "Iter: 900, Loss: 8.8516\n",
            "Iter: 1000, Loss: 8.6790\n",
            "Iter: 1100, Loss: 8.5170\n",
            "Iter: 1200, Loss: 8.3648\n",
            "Iter: 1300, Loss: 8.2218\n",
            "Iter: 1400, Loss: 8.0875\n",
            "Iter: 1500, Loss: 7.9612\n",
            "Iter: 1600, Loss: 7.8424\n",
            "Iter: 1700, Loss: 7.7307\n",
            "Iter: 1800, Loss: 7.6256\n",
            "Iter: 1900, Loss: 7.5266\n",
            "Iter: 2000, Loss: 7.4335\n",
            "Iter: 2100, Loss: 7.3457\n",
            "Iter: 2200, Loss: 7.2631\n",
            "Iter: 2300, Loss: 7.1852\n",
            "Iter: 2400, Loss: 7.1118\n",
            "Iter: 2500, Loss: 7.0426\n",
            "Iter: 2600, Loss: 6.9773\n",
            "Iter: 2700, Loss: 6.9157\n",
            "Iter: 2800, Loss: 6.8576\n",
            "Iter: 2900, Loss: 6.8028\n",
            "Iter: 3000, Loss: 6.7510\n",
            "Iter: 3100, Loss: 6.7021\n",
            "Iter: 3200, Loss: 6.6559\n",
            "Iter: 3300, Loss: 6.6123\n",
            "Iter: 3400, Loss: 6.5711\n",
            "Iter: 3500, Loss: 6.5322\n",
            "Iter: 3600, Loss: 6.4954\n",
            "Iter: 3700, Loss: 6.4606\n",
            "Iter: 3800, Loss: 6.4276\n",
            "Iter: 3900, Loss: 6.3965\n",
            "Iter: 4000, Loss: 6.3670\n",
            "Iter: 4100, Loss: 6.3392\n",
            "Iter: 4200, Loss: 6.3128\n",
            "Iter: 4300, Loss: 6.2878\n",
            "Iter: 4400, Loss: 6.2642\n",
            "Iter: 4500, Loss: 6.2418\n",
            "Iter: 4600, Loss: 6.2206\n",
            "Iter: 4700, Loss: 6.2005\n",
            "Iter: 4800, Loss: 6.1815\n",
            "Iter: 4900, Loss: 6.1635\n"
          ]
        }
      ]
    },
    {
      "cell_type": "code",
      "metadata": {
        "id": "Fu1S6WVm4M1Y",
        "colab": {
          "base_uri": "https://localhost:8080/"
        },
        "outputId": "721a78f5-8faa-4494-863b-ea167ca55858"
      },
      "source": [
        "print(W, b)"
      ],
      "execution_count": 14,
      "outputs": [
        {
          "output_type": "stream",
          "name": "stdout",
          "text": [
            "<tf.Variable 'weight:0' shape=(3, 1) dtype=float32, numpy=\n",
            "array([[0.23005226],\n",
            "       [0.62363464],\n",
            "       [1.184437  ]], dtype=float32)> <tf.Variable 'bias:0' shape=(1,) dtype=float32, numpy=array([-2.169901], dtype=float32)>\n"
          ]
        }
      ]
    },
    {
      "cell_type": "code",
      "metadata": {
        "id": "cUJviOQ_aGVH",
        "colab": {
          "base_uri": "https://localhost:8080/",
          "height": 430
        },
        "outputId": "2ab3aa16-7640-4a6b-c1aa-195438d069f1"
      },
      "source": [
        "hypothesis= linear_regression(x_train)\n",
        "\n",
        "plt.plot(y_train, 'o-', color='red')\n",
        "plt.plot(hypothesis.numpy(), 'o-', color='blue')\n",
        "plt.show()"
      ],
      "execution_count": 15,
      "outputs": [
        {
          "output_type": "display_data",
          "data": {
            "text/plain": [
              "<Figure size 640x480 with 1 Axes>"
            ],
            "image/png": "[encoded data removed]"
          },
          "metadata": {}
        }
      ]
    },
    {
      "cell_type": "code",
      "metadata": {
        "id": "4mazQlt-ai-P"
      },
      "source": [],
      "execution_count": null,
      "outputs": []
    }
  ]
}