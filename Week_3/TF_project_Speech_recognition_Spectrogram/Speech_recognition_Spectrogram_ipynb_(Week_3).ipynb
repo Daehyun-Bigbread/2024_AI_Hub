{
  "nbformat": 4,
  "nbformat_minor": 0,
  "metadata": {
    "kernelspec": {
      "name": "python3",
      "display_name": "Python 3"
    },
    "language_info": {
      "codemirror_mode": {
        "name": "ipython",
        "version": 3
      },
      "file_extension": ".py",
      "mimetype": "text/x-python",
      "name": "python",
      "nbconvert_exporter": "python",
      "pygments_lexer": "ipython3",
      "version": "3.7.3"
    },
    "colab": {
      "provenance": [],
      "collapsed_sections": [
        "wZmjKwlBSVnx"
      ],
      "gpuType": "T4"
    },
    "accelerator": "GPU"
  },
  "cells": [
    {
      "cell_type": "markdown",
      "metadata": {
        "id": "Yu1-_CuosHDh"
      },
      "source": [
        "# Speech spectrogram classification\n",
        "\n",
        "## Spectrogram 데이터를 이용해 음성을 분류하는 모델을 제작해보자."
      ]
    },
    {
      "cell_type": "markdown",
      "metadata": {
        "id": "4TKZ-SAg2AIJ"
      },
      "source": [
        "## challenge\n",
        "### Task\n",
        "* 1초 길이의 오디오 음성데이터를 이용해 단어를 분류하는 것이 목표입니다.\n",
        "* 주어진 데이터를 이용해 딥러닝 트레이닝 과정을 구현해 보는것이 목표입니다.\n",
        "* This code is borrowed from [Kaggle/TensorFlow Speech Recognition Challenge](https://www.kaggle.com/c/tensorflow-speech-recognition-challenge).\n",
        "* This is version 0.01 of the data set containing 64,727 audio files, released on August 3rd 2017.\n",
        "* **챌린지에서 사용하는 데이터는 Wave에서 Spectrogram으로 변환된 데이터입니다.**"
      ]
    },
    {
      "cell_type": "markdown",
      "metadata": {
        "id": "fvN8sTwi4S0t"
      },
      "source": [
        "### Import packages\n",
        "\n",
        "* 우리가 사용할 packages 를 import 하는 부분 입니다.\n",
        "* 필요에 따른 packages를 선언합니다."
      ]
    },
    {
      "cell_type": "code",
      "metadata": {
        "id": "RlMAFGSosHDk",
        "colab": {
          "base_uri": "https://localhost:8080/",
          "height": 35
        },
        "outputId": "f53edd8a-b4e5-420b-c54f-32c0213d69c3"
      },
      "source": [
        "import tensorflow as tf\n",
        "from tensorflow.keras import layers\n",
        "import numpy as np\n",
        "import pandas as pd\n",
        "from sklearn.model_selection import train_test_split\n",
        "\n",
        "import librosa\n",
        "import librosa.display\n",
        "import matplotlib.pyplot as plt\n",
        "\n",
        "import os\n",
        "from os.path import isdir, join\n",
        "\n",
        "import random\n",
        "import copy\n",
        "\n",
        "tf.__version__"
      ],
      "execution_count": null,
      "outputs": [
        {
          "output_type": "execute_result",
          "data": {
            "text/plain": [
              "'2.15.0'"
            ],
            "application/vnd.google.colaboratory.intrinsic+json": {
              "type": "string"
            }
          },
          "metadata": {},
          "execution_count": 1
        }
      ]
    },
    {
      "cell_type": "markdown",
      "metadata": {
        "id": "0XgiqM0DsHDo"
      },
      "source": [
        "### Setting Dataset\n",
        "\n",
        "* Colab 적용을 위한 변수 지정 및 드라이브 마운트"
      ]
    },
    {
      "cell_type": "code",
      "metadata": {
        "id": "MU1jUvnosMRH"
      },
      "source": [
        "use_colab = True\n",
        "assert use_colab in [True, False]"
      ],
      "execution_count": null,
      "outputs": []
    },
    {
      "cell_type": "code",
      "metadata": {
        "id": "aSd1jUmOym_t",
        "colab": {
          "base_uri": "https://localhost:8080/"
        },
        "outputId": "6fc52021-c8ee-4520-85e3-425b802a4f1f"
      },
      "source": [
        "from google.colab import drive\n",
        "drive.mount('/content/drive')"
      ],
      "execution_count": null,
      "outputs": [
        {
          "output_type": "stream",
          "name": "stdout",
          "text": [
            "Mounted at /content/drive\n"
          ]
        }
      ]
    },
    {
      "cell_type": "code",
      "metadata": {
        "id": "CXI0z5vEsHD9"
      },
      "source": [
        "if use_colab:\n",
        "    DATASET_PATH = \"/content/drive/MyDrive/Datasets\"\n",
        "else:\n",
        "    DATASET_PATH = \"./\""
      ],
      "execution_count": null,
      "outputs": []
    },
    {
      "cell_type": "markdown",
      "metadata": {
        "id": "YeGRTrMHZaRL"
      },
      "source": [
        "### Dataset Shape\n",
        "* 불러온 데이터셋의 shape을 확인해보자."
      ]
    },
    {
      "cell_type": "code",
      "metadata": {
        "id": "pLIdaMhCyUFZ",
        "colab": {
          "base_uri": "https://localhost:8080/"
        },
        "outputId": "ef69cf6e-ceb9-471e-f9db-c0b9f577a0a1"
      },
      "source": [
        "data_wav = np.load(os.path.join(DATASET_PATH, \"speech_spec_8000.npy\"))\n",
        "print(data_wav.shape)\n",
        "# 50620, 130, 126, 1"
      ],
      "execution_count": 5,
      "outputs": [
        {
          "output_type": "stream",
          "name": "stdout",
          "text": [
            "(50620, 130, 126)\n"
          ]
        }
      ]
    },
    {
      "cell_type": "code",
      "source": [
        "(-1, data_wav.shape[1], data_wav.shape[2], 1)"
      ],
      "metadata": {
        "id": "AGk9vyKxNQlD",
        "colab": {
          "base_uri": "https://localhost:8080/"
        },
        "outputId": "569d509f-aad3-4cd2-87de-7f30688bbbfa"
      },
      "execution_count": 6,
      "outputs": [
        {
          "output_type": "execute_result",
          "data": {
            "text/plain": [
              "(-1, 130, 126, 1)"
            ]
          },
          "metadata": {},
          "execution_count": 6
        }
      ]
    },
    {
      "cell_type": "markdown",
      "metadata": {
        "id": "auWK1iE3-eYh"
      },
      "source": [
        "* Spectrogram으로 변환한 데이터를 plot 해본다."
      ]
    },
    {
      "cell_type": "code",
      "metadata": {
        "id": "LnIV5RMEsHEG",
        "colab": {
          "base_uri": "https://localhost:8080/",
          "height": 487
        },
        "outputId": "225eb0ce-dc84-4964-f197-bf27bf03eed2"
      },
      "source": [
        "librosa.display.specshow(librosa.amplitude_to_db(data_wav[219], ref=np.max), x_axis='time')\n",
        "plt.title('Power spectrogram')\n",
        "plt.colorbar(format='%+2.0f dB')\n",
        "plt.tight_layout()\n",
        "plt.show()"
      ],
      "execution_count": 7,
      "outputs": [
        {
          "output_type": "display_data",
          "data": {
            "text/plain": [
              "<Figure size 640x480 with 2 Axes>"
            ],
            "image/png": "[encoded data removed]"
          },
          "metadata": {}
        }
      ]
    },
    {
      "cell_type": "markdown",
      "metadata": {
        "id": "T7_lX4sP-l0r"
      },
      "source": [
        "* 전체 데이터셋의 wave 데이터를 spectrogram으로 변환한다."
      ]
    },
    {
      "cell_type": "markdown",
      "metadata": {
        "id": "W0w98NJJehoq"
      },
      "source": [
        "### Target_list 설정\n",
        "* 데이터셋은 기본적으로 총 12개의 클래스로 나누어져있다.\n",
        "```\n",
        "['yes', 'no', 'up', 'down', 'left', 'right', 'on', 'off', 'stop', 'go', 'unknown', 'silence']\n",
        "```\n",
        "* 해당 클래스로 나누어진 label을 학습 가능한 형태로 처리 후 데이터셋 제작"
      ]
    },
    {
      "cell_type": "code",
      "metadata": {
        "id": "eu1VDu_p9Nq9",
        "colab": {
          "base_uri": "https://localhost:8080/"
        },
        "outputId": "c6e05dc2-b7f4-4416-b968-aec9dc5a2b0a"
      },
      "source": [
        "data_label = np.load(os.path.join(DATASET_PATH, \"speech_label_8000.npy\"))\n",
        "print(data_label.shape)"
      ],
      "execution_count": 8,
      "outputs": [
        {
          "output_type": "stream",
          "name": "stdout",
          "text": [
            "(50620, 1)\n"
          ]
        }
      ]
    },
    {
      "cell_type": "code",
      "source": [
        "# label 전처리\n",
        "target_list = ['yes', 'no', 'up', 'down', 'left', 'right', 'on', 'off', 'stop', 'go', 'unknown', 'silence']\n",
        "##################################################\n",
        "##### 주어진 label => idx 형태로 변경해주셔야합니다. #####\n",
        "##################################################\n",
        "\n",
        "new_label_value = dict() # 사전에 입력\n",
        "for i, l in enumerate(target_list):\n",
        "    new_label_value[l] = i\n",
        "target_list = new_label_value # 일종의 번역사전을 만들게 됩니다."
      ],
      "metadata": {
        "id": "wSLvWaU4HXW1"
      },
      "execution_count": 10,
      "outputs": []
    },
    {
      "cell_type": "code",
      "source": [
        "target_list"
      ],
      "metadata": {
        "colab": {
          "base_uri": "https://localhost:8080/"
        },
        "id": "wWyQWOgwHY45",
        "outputId": "1d7da743-2a62-466c-c13a-f5df30ebc8f3"
      },
      "execution_count": 12,
      "outputs": [
        {
          "output_type": "execute_result",
          "data": {
            "text/plain": [
              "{'yes': 0,\n",
              " 'no': 1,\n",
              " 'up': 2,\n",
              " 'down': 3,\n",
              " 'left': 4,\n",
              " 'right': 5,\n",
              " 'on': 6,\n",
              " 'off': 7,\n",
              " 'stop': 8,\n",
              " 'go': 9,\n",
              " 'unknown': 10,\n",
              " 'silence': 11}"
            ]
          },
          "metadata": {},
          "execution_count": 12
        }
      ]
    },
    {
      "cell_type": "markdown",
      "metadata": {
        "id": "9bwwnfZisHES"
      },
      "source": [
        "### Model dataset setting\n",
        "* 변환된 데이터를 이용해서 학습에 활용할 데이터셋을 설정한다.\n",
        "    * data -> data_wav\n",
        "    * label -> data_label"
      ]
    },
    {
      "cell_type": "code",
      "source": [
        "print(\"data_wav 길이:\", len(data_wav))\n",
        "print(\"data_label 길이:\", len(data_label))"
      ],
      "metadata": {
        "colab": {
          "base_uri": "https://localhost:8080/"
        },
        "id": "kLEiQxDRIweJ",
        "outputId": "01d30e19-235b-4262-a9a5-a2ec2571c054"
      },
      "execution_count": 17,
      "outputs": [
        {
          "output_type": "stream",
          "name": "stdout",
          "text": [
            "data_wav 길이: 50620\n",
            "data_label 길이: 50620\n"
          ]
        }
      ]
    },
    {
      "cell_type": "code",
      "metadata": {
        "id": "8FUgL7TSsHEU",
        "colab": {
          "base_uri": "https://localhost:8080/"
        },
        "outputId": "7ad41d91-2ad9-4539-915a-a8e86db17334"
      },
      "source": [
        "train_wav, test_wav, train_label, test_label = \\\n",
        "train_test_split(data_wav, data_label, test_size=0.1, shuffle=True)\n",
        "\n",
        "# reshape for conv layers Conv2D -> 차원이 더 늘어납니다. 데이터 shape도 바뀝니다!\n",
        "train_wav = train_wav.reshape([-1, 130, 126, 1])\n",
        "test_wav = test_wav.reshape([-1, 130, 126, 1])\n",
        "\n",
        "print(train_wav.shape)\n",
        "print(test_wav.shape)\n",
        "print(train_label.shape)\n",
        "print(test_label.shape)\n",
        "\n",
        "del data_wav # 메모리 관리를 위해 변수 삭제\n",
        "del data_label"
      ],
      "execution_count": 19,
      "outputs": [
        {
          "output_type": "stream",
          "name": "stdout",
          "text": [
            "(45558, 130, 126, 1)\n",
            "(5062, 130, 126, 1)\n",
            "(45558, 1)\n",
            "(5062, 1)\n"
          ]
        }
      ]
    },
    {
      "cell_type": "code",
      "metadata": {
        "id": "YZ9yGwb6sHEe",
        "colab": {
          "base_uri": "https://localhost:8080/"
        },
        "outputId": "350cf664-efe1-4880-efd2-bdbd0352060b"
      },
      "source": [
        "print('Train_Wav Demension : ' + str(np.shape(train_wav)))\n",
        "print('Train_Label Demension : ' + str(np.shape(train_label)))\n",
        "print('Test_Wav Demension : ' + str(np.shape(test_wav)))\n",
        "print('Test_Label Demension : ' + str(np.shape(test_label)))\n",
        "print('Number Of Labels : ' + str(len(target_list)))"
      ],
      "execution_count": 21,
      "outputs": [
        {
          "output_type": "stream",
          "name": "stdout",
          "text": [
            "Train_Wav Demension : (45558, 130, 126, 1)\n",
            "Train_Label Demension : (45558, 1)\n",
            "Test_Wav Demension : (5062, 130, 126, 1)\n",
            "Test_Label Demension : (5062, 1)\n",
            "Number Of Labels : 12\n"
          ]
        }
      ]
    },
    {
      "cell_type": "markdown",
      "source": [
        "## Label 데이터 구분화\n",
        "* label vector화 -> 학습 가능한 형태로 변환 (여기서는 정답 데이터로)"
      ],
      "metadata": {
        "id": "9D08tqCvHrQK"
      }
    },
    {
      "cell_type": "code",
      "source": [
        "# temp 변수를 이용해서 기존 text 형태인 label을 idx 형태로 변경해준다.\n",
        "temp = []\n",
        "for v in train_label:\n",
        "    temp.append(target_list[v[0]]) # [\"down\"] => \"down\"\n",
        "train_label = np.array(temp)\n",
        "\n",
        "temp = []\n",
        "for v in test_label:\n",
        "    temp.append(target_list[v[0]])\n",
        "test_label = np.array(temp)\n",
        "\n",
        "del temp"
      ],
      "metadata": {
        "id": "Z46zWp4QHvmd"
      },
      "execution_count": 25,
      "outputs": []
    },
    {
      "cell_type": "code",
      "source": [
        "train_label[0:10]"
      ],
      "metadata": {
        "colab": {
          "base_uri": "https://localhost:8080/"
        },
        "id": "Ku3WJ0iQJjf-",
        "outputId": "f7af034b-542a-4cc2-83d8-9abc0c65ec79"
      },
      "execution_count": 27,
      "outputs": [
        {
          "output_type": "execute_result",
          "data": {
            "text/plain": [
              "array([ 3,  9,  3,  7,  1, 10, 10, 11,  1,  8])"
            ]
          },
          "metadata": {},
          "execution_count": 27
        }
      ]
    },
    {
      "cell_type": "markdown",
      "metadata": {
        "id": "kSvck1awy3Md"
      },
      "source": [
        "### Hyper-parameters setting\n",
        "* 학습 전반에서 사용할 batch size, epoch, checkpoint dir을 설정한다."
      ]
    },
    {
      "cell_type": "code",
      "metadata": {
        "id": "mt-aLitgy5xI"
      },
      "source": [
        "# the save point\n",
        "if use_colab:\n",
        "    checkpoint_dir ='./drive/MyDrive/train_ckpt/spectrogram/exp1'\n",
        "    if not os.path.isdir(checkpoint_dir):\n",
        "        os.makedirs(checkpoint_dir)\n",
        "else:\n",
        "    checkpoint_dir = 'spectrogram/exp1'"
      ],
      "execution_count": 28,
      "outputs": []
    },
    {
      "cell_type": "markdown",
      "metadata": {
        "id": "9JnCHOjS7H2q"
      },
      "source": [
        "### Dataset 구성\n",
        "* 전처리가 완료된 데이터들을 이용해서 Train, Test Dataset을 직접 구성해봅시다.\n",
        "* 학습에 사용할 Loss Function의 설정을 고려해 제작\n"
      ]
    },
    {
      "cell_type": "code",
      "source": [
        "# mapping 함수를 이용해 데이터셋 아웃풋을 처리\n",
        "def one_hot_label(wav, label):\n",
        "    label = tf.one_hot(label, depth=12)\n",
        "    return wav, label\n",
        "\n",
        "# [0, 1, 2]\n",
        "\n",
        "# 0 => [1, 0, 0]\n",
        "# 1 => [0, 1, 0]\n",
        "# 2 => [0, 0, 1]"
      ],
      "metadata": {
        "id": "IhnI9FE0Jwv0"
      },
      "execution_count": 29,
      "outputs": []
    },
    {
      "cell_type": "code",
      "metadata": {
        "id": "65xPCvazsHEm",
        "colab": {
          "base_uri": "https://localhost:8080/"
        },
        "outputId": "e12e983b-2b61-4a63-ada7-57cf92e61a0e"
      },
      "source": [
        "# 전체 데이터셋 구성\n",
        "batch_size = 16\n",
        "\n",
        "# for train\n",
        "train_dataset = tf.data.Dataset.from_tensor_slices((train_wav, train_label))\n",
        "train_dataset = train_dataset.map(one_hot_label)\n",
        "train_dataset = train_dataset.shuffle(10000).repeat().batch(batch_size=batch_size)\n",
        "print(train_dataset)\n",
        "\n",
        "# for test\n",
        "test_dataset = tf.data.Dataset.from_tensor_slices((test_wav, test_label))\n",
        "test_dataset = test_dataset.map(one_hot_label)\n",
        "test_dataset = test_dataset.batch(batch_size=batch_size) # 테스트때는 섞을 필요가 없다!\n",
        "print(test_dataset)"
      ],
      "execution_count": 30,
      "outputs": [
        {
          "output_type": "stream",
          "name": "stdout",
          "text": [
            "<_BatchDataset element_spec=(TensorSpec(shape=(None, 130, 126, 1), dtype=tf.float32, name=None), TensorSpec(shape=(None, 12), dtype=tf.float32, name=None))>\n",
            "<_BatchDataset element_spec=(TensorSpec(shape=(None, 130, 126, 1), dtype=tf.float32, name=None), TensorSpec(shape=(None, 12), dtype=tf.float32, name=None))>\n"
          ]
        }
      ]
    },
    {
      "cell_type": "code",
      "source": [
        "for t, l in train_dataset.take(1):\n",
        "    print(l)"
      ],
      "metadata": {
        "colab": {
          "base_uri": "https://localhost:8080/"
        },
        "id": "Bsnlp6xiJ5nM",
        "outputId": "191cfcca-4b81-46c0-fbed-f9513ea4cb29"
      },
      "execution_count": 31,
      "outputs": [
        {
          "output_type": "stream",
          "name": "stdout",
          "text": [
            "tf.Tensor(\n",
            "[[1. 0. 0. 0. 0. 0. 0. 0. 0. 0. 0. 0.]\n",
            " [0. 0. 0. 0. 1. 0. 0. 0. 0. 0. 0. 0.]\n",
            " [0. 0. 0. 0. 0. 0. 0. 0. 0. 0. 0. 1.]\n",
            " [0. 0. 0. 0. 0. 0. 0. 0. 0. 1. 0. 0.]\n",
            " [0. 0. 0. 0. 0. 0. 0. 0. 1. 0. 0. 0.]\n",
            " [0. 0. 0. 0. 0. 0. 0. 0. 0. 1. 0. 0.]\n",
            " [0. 0. 0. 0. 0. 0. 1. 0. 0. 0. 0. 0.]\n",
            " [0. 0. 1. 0. 0. 0. 0. 0. 0. 0. 0. 0.]\n",
            " [0. 0. 0. 1. 0. 0. 0. 0. 0. 0. 0. 0.]\n",
            " [0. 0. 0. 0. 0. 0. 0. 0. 0. 0. 0. 1.]\n",
            " [0. 0. 0. 0. 0. 0. 0. 1. 0. 0. 0. 0.]\n",
            " [0. 0. 1. 0. 0. 0. 0. 0. 0. 0. 0. 0.]\n",
            " [0. 1. 0. 0. 0. 0. 0. 0. 0. 0. 0. 0.]\n",
            " [0. 0. 1. 0. 0. 0. 0. 0. 0. 0. 0. 0.]\n",
            " [0. 0. 1. 0. 0. 0. 0. 0. 0. 0. 0. 0.]\n",
            " [0. 0. 0. 0. 0. 0. 0. 1. 0. 0. 0. 0.]], shape=(16, 12), dtype=float32)\n"
          ]
        }
      ]
    },
    {
      "cell_type": "markdown",
      "metadata": {
        "id": "wZmjKwlBSVnx"
      },
      "source": [
        "### Dataset 구성 검증\n",
        "```\n",
        "<BatchDataset shapes: ((None, 130, 126, 1), (None, 12)), types: (tf.float32, tf.float32)>\n",
        "<BatchDataset shapes: ((None, 130, 126, 1), (None, 12)), types: (tf.float32, tf.float32)>\n",
        "```"
      ]
    },
    {
      "cell_type": "markdown",
      "metadata": {
        "id": "ykQEO8XP7FFD"
      },
      "source": [
        "## Model 구현\n",
        "* 제시된 모델을 구현해보고, 더 좋은 성능으로 튜닝해보자.\n",
        "\n",
        "    * inputs = [batch_size, 130, 126, 1]\n",
        "    * conv1 = [batch_size, 65, 63, 16]\n",
        "    * conv2 = [batch_size, 33, 32, 32]\n",
        "    * conv3 = [batch_size, 17, 16, 64]\n",
        "    * desne = [batch_size, 64]\n",
        "    * output = [batch_size, 12]\n",
        "\n",
        "\n",
        "\n",
        "\n"
      ]
    },
    {
      "cell_type": "markdown",
      "source": [
        "### Model dataset setting\n",
        "* Conv1D, 2D (파라미터 비슷)\n",
        "* Conv2D(6,3) -> N=6, 3*3 = 9\n",
        "* Conv1D(6,9) -> N=6, 9"
      ],
      "metadata": {
        "id": "Zgrvzqq9KiC5"
      }
    },
    {
      "cell_type": "code",
      "metadata": {
        "id": "2MhnpbAHsHEo",
        "colab": {
          "base_uri": "https://localhost:8080/"
        },
        "outputId": "0fc88b6e-966c-48af-a89a-ec1f9544f9fa"
      },
      "source": [
        "# Conv Layer (Sequential) Conv2D(6,3) -> N=6, 3*3 = 9\n",
        "\n",
        "# inputs = [batch_size, 130, 126, 1]\n",
        "input_tensor = layers.Input(shape=(130, 126, 1))\n",
        "x = layers.Conv2D(16, 3, padding='same', activation='relu')(input_tensor)\n",
        "x = layers.MaxPool2D()(x)\n",
        "x = layers.Conv2D(16, 3, strides=2, padding='same', activation='relu')(x) # strides=2 (1/2)\n",
        "\n",
        "# conv1 = [batch_size, 65, 63, 16]\n",
        "x = layers.Conv2D(32, 3, padding='same', activation='relu')(x)\n",
        "x = layers.Conv2D(32, 3, strides=2, padding='same', activation='relu')(x) # strides=2 (1/2)\n",
        "\n",
        "# conv2 = [batch_size, 33, 32, 32]\n",
        "x = layers.Conv2D(64, 3, padding='same', activation='relu')(x)\n",
        "x = layers.Conv2D(64, 3, padding='same', activation='relu')(x)\n",
        "x = layers.Conv2D(64, 3, strides=2, padding='same', activation='relu')(x) # strides=2 (1/2)\n",
        "\n",
        "# conv3 = [batch_size, 17, 16, 64]\n",
        "x = layers.Conv2D(128, 3, padding='same', activation='relu')(x)\n",
        "x = layers.Conv2D(128, 3, padding='same', activation='relu')(x)\n",
        "x = layers.Conv2D(128, 3, strides=2, padding='same', activation='relu')(x) # strides=2 (1/2)\n",
        "x = layers.Dropout(0.3)(x)\n",
        "\n",
        "# desne = [batch_size, 64]\n",
        "x = layers.Flatten()(x)\n",
        "x = layers.Dense(64)(x)\n",
        "x = layers.BatchNormalization()(x)\n",
        "x = layers.Activation('relu')(x)\n",
        "\n",
        "# output = [batch_size, 12]\n",
        "output_tensor = layers.Dense(12)(x)\n",
        "\n",
        "model = tf.keras.Model(input_tensor, output_tensor)\n",
        "\n",
        "print(x.shape)"
      ],
      "execution_count": 35,
      "outputs": [
        {
          "output_type": "stream",
          "name": "stdout",
          "text": [
            "(None, 64)\n"
          ]
        }
      ]
    },
    {
      "cell_type": "code",
      "source": [
        "# Conv Layer (Sequential) Conv2D(6,3) -> N=6, 3*3 = 9\n",
        "# Skip Connection 추가\n",
        "\n",
        "# inputs = [batch_size, 130, 126, 1]\n",
        "input_tensor = layers.Input(shape=(130, 126, 1))\n",
        "x = layers.Conv2D(16, 3, padding='same', activation='relu')(input_tensor)\n",
        "skip_1 = layers.Conv2D(16, 3, strides=2, padding='same', activation='relu')(x) # strides=2 (1/2)\n",
        "\n",
        "# conv1 = [batch_size, 65, 63, 16]\n",
        "x = layers.Conv1D(32, 3, padding='same', activation='relu')(skip_1)\n",
        "x = tf.concat([x, skip_1], axis=-1)\n",
        "skip_2 = layers.Conv1D(32, 3, strides=2, padding='same', activation='relu')(x) # strides=2 (1/2)\n",
        "\n",
        "# conv2 = [batch_size, 33, 32, 32]\n",
        "x = layers.Conv1D(64, 3, padding='same', activation='relu')(skip_2)\n",
        "x = layers.Conv1D(64, 3, padding='same', activation='relu')(x)\n",
        "x = tf.concat([x, skip_2], -1)\n",
        "skip_3 = layers.Conv1D(64, 3, strides=2, padding='same', activation='relu')(x) # strides=2 (1/2)\n",
        "\n",
        "# conv3 = [batch_size, 17, 16, 64]\n",
        "x = layers.Conv1D(128, 3, padding='same', activation='relu')(skip_3)\n",
        "x = layers.Conv1D(128, 3, padding='same', activation='relu')(x)\n",
        "x = tf.concat([x, skip_3], -1)\n",
        "x = layers.Conv1D(128, 3, strides=2, padding='same', activation='relu')(x) # strides=2 (1/2)\n",
        "x = layers.Dropout(0.3)(x)\n",
        "\n",
        "# desne = [batch_size, 64]\n",
        "x = layers.Flatten()(x)\n",
        "x = layers.Dense(64)(x)\n",
        "x = layers.BatchNormalization()(x)\n",
        "x = layers.Activation('relu')(x)\n",
        "\n",
        "# output = [batch_size, 12]\n",
        "output_tensor = layers.Dense(12)(x)\n",
        "\n",
        "model = tf.keras.Model(input_tensor, output_tensor)"
      ],
      "metadata": {
        "id": "2A40uSnfMJiL"
      },
      "execution_count": null,
      "outputs": []
    },
    {
      "cell_type": "markdown",
      "metadata": {
        "id": "YeBqtI2tkAIo"
      },
      "source": [
        "* 구현된 모델을 어떻게 학습시킬 것인지 구성해봅시다."
      ]
    },
    {
      "cell_type": "code",
      "metadata": {
        "id": "90AizrGdsHEr"
      },
      "source": [
        "optimizer=tf.keras.optimizers.Adam(1e-4) # learning rate\n",
        "model.compile(loss=tf.keras.losses.CategoricalCrossentropy(from_logits=True), # categorical_crossentropy => from_logits=False 고정\n",
        "              optimizer=\"adam\",\n",
        "              metrics=['accuracy'])"
      ],
      "execution_count": 36,
      "outputs": []
    },
    {
      "cell_type": "markdown",
      "metadata": {
        "id": "32hdTHj7SeCN"
      },
      "source": [
        "### 모델 Output 확인\n",
        "* 총 12개의 예측 데이터가 출력되는지 확인해봅시다."
      ]
    },
    {
      "cell_type": "code",
      "metadata": {
        "id": "Qg5pReaesHEt",
        "colab": {
          "base_uri": "https://localhost:8080/"
        },
        "outputId": "486b0ad0-204b-4225-e6be-ce393f41e108"
      },
      "source": [
        "# without training, just inference a model:\n",
        "predictions = model(train_wav[0:1], training=False)\n",
        "print(\"Predictions: \", predictions.numpy())"
      ],
      "execution_count": 37,
      "outputs": [
        {
          "output_type": "stream",
          "name": "stdout",
          "text": [
            "Predictions:  [[-0.00519606  0.01818079  0.00395545 -0.00596269 -0.00577266  0.00564425\n",
            "  -0.01731364 -0.0038437  -0.00338955  0.01307235 -0.00626947 -0.01146018]]\n"
          ]
        }
      ]
    },
    {
      "cell_type": "markdown",
      "metadata": {
        "id": "iDegoCoskGef"
      },
      "source": [
        "* 최종 모델 구성을 확인 후 모델을 저장할 체크포인트를 구성해봅시다."
      ]
    },
    {
      "cell_type": "code",
      "metadata": {
        "id": "jfQfGlfNsHEy",
        "colab": {
          "base_uri": "https://localhost:8080/"
        },
        "outputId": "fdfe6957-f7c5-460f-8ec2-2684bc808fff"
      },
      "source": [
        "model.summary()"
      ],
      "execution_count": 38,
      "outputs": [
        {
          "output_type": "stream",
          "name": "stdout",
          "text": [
            "Model: \"model_2\"\n",
            "_________________________________________________________________\n",
            " Layer (type)                Output Shape              Param #   \n",
            "=================================================================\n",
            " input_4 (InputLayer)        [(None, 130, 126, 1)]     0         \n",
            "                                                                 \n",
            " conv2d_10 (Conv2D)          (None, 130, 126, 16)      160       \n",
            "                                                                 \n",
            " max_pooling2d (MaxPooling2  (None, 65, 63, 16)        0         \n",
            " D)                                                              \n",
            "                                                                 \n",
            " conv2d_11 (Conv2D)          (None, 33, 32, 16)        2320      \n",
            "                                                                 \n",
            " conv2d_12 (Conv2D)          (None, 33, 32, 32)        4640      \n",
            "                                                                 \n",
            " conv2d_13 (Conv2D)          (None, 17, 16, 32)        9248      \n",
            "                                                                 \n",
            " conv2d_14 (Conv2D)          (None, 17, 16, 64)        18496     \n",
            "                                                                 \n",
            " conv2d_15 (Conv2D)          (None, 17, 16, 64)        36928     \n",
            "                                                                 \n",
            " conv2d_16 (Conv2D)          (None, 9, 8, 64)          36928     \n",
            "                                                                 \n",
            " conv2d_17 (Conv2D)          (None, 9, 8, 128)         73856     \n",
            "                                                                 \n",
            " conv2d_18 (Conv2D)          (None, 9, 8, 128)         147584    \n",
            "                                                                 \n",
            " conv2d_19 (Conv2D)          (None, 5, 4, 128)         147584    \n",
            "                                                                 \n",
            " dropout_2 (Dropout)         (None, 5, 4, 128)         0         \n",
            "                                                                 \n",
            " flatten_2 (Flatten)         (None, 2560)              0         \n",
            "                                                                 \n",
            " dense_4 (Dense)             (None, 64)                163904    \n",
            "                                                                 \n",
            " batch_normalization_2 (Bat  (None, 64)                256       \n",
            " chNormalization)                                                \n",
            "                                                                 \n",
            " activation_2 (Activation)   (None, 64)                0         \n",
            "                                                                 \n",
            " dense_5 (Dense)             (None, 12)                780       \n",
            "                                                                 \n",
            "=================================================================\n",
            "Total params: 642684 (2.45 MB)\n",
            "Trainable params: 642556 (2.45 MB)\n",
            "Non-trainable params: 128 (512.00 Byte)\n",
            "_________________________________________________________________\n"
          ]
        }
      ]
    },
    {
      "cell_type": "code",
      "metadata": {
        "id": "3WEIV2-yzejQ"
      },
      "source": [
        "cp_callback = tf.keras.callbacks.ModelCheckpoint(checkpoint_dir,\n",
        "                                                 save_weights_only=True,\n",
        "                                                 monitor='val_loss',\n",
        "                                                 mode='auto', # max, min, auto\n",
        "                                                 save_best_only=True,\n",
        "                                                 verbose=1)\n",
        "# 추가 callback 함수를 구현해보세요!\n",
        "early_stopping_cb = tf.keras.callbacks.EarlyStopping(patience=10,\n",
        "                                                     monitor='val_loss',\n",
        "                                                     restore_best_weights=True,\n",
        "                                                     verbose=1)"
      ],
      "execution_count": 41,
      "outputs": []
    },
    {
      "cell_type": "markdown",
      "metadata": {
        "id": "xIr8LoVs6zdb"
      },
      "source": [
        "## Training\n",
        "* 위에서 구현한 데이터셋, 모델들을 fit 함수를 이용해 학습을 시켜봅시다."
      ]
    },
    {
      "cell_type": "code",
      "metadata": {
        "id": "oo_KCHDbsHE2",
        "colab": {
          "base_uri": "https://localhost:8080/"
        },
        "outputId": "0b260f05-ee52-48ff-cadb-62484c43c7d4"
      },
      "source": [
        "# model.fit model.fit_generator는 model.fit으로 통일되었습니다.\n",
        "# tf.data.Dataset은 generator 입니다.\n",
        "\n",
        "max_epochs = 20\n",
        "\n",
        "history = model.fit(train_dataset,\n",
        "                    steps_per_epoch=len(train_wav) // batch_size,\n",
        "                    epochs = max_epochs,\n",
        "                    validation_data=test_dataset,\n",
        "                    validation_steps=len(test_wav) // batch_size,\n",
        "                    callbacks=[cp_callback])"
      ],
      "execution_count": 42,
      "outputs": [
        {
          "output_type": "stream",
          "name": "stdout",
          "text": [
            "Epoch 1/20\n",
            "2846/2847 [============================>.] - ETA: 0s - loss: 0.8039 - accuracy: 0.7365\n",
            "Epoch 1: val_loss improved from inf to 0.41234, saving model to ./drive/MyDrive/train_ckpt/spectrogram/exp1\n",
            "2847/2847 [==============================] - 48s 13ms/step - loss: 0.8037 - accuracy: 0.7365 - val_loss: 0.4123 - val_accuracy: 0.8710\n",
            "Epoch 2/20\n",
            "2847/2847 [==============================] - ETA: 0s - loss: 0.3237 - accuracy: 0.8988\n",
            "Epoch 2: val_loss improved from 0.41234 to 0.23668, saving model to ./drive/MyDrive/train_ckpt/spectrogram/exp1\n",
            "2847/2847 [==============================] - 32s 11ms/step - loss: 0.3237 - accuracy: 0.8988 - val_loss: 0.2367 - val_accuracy: 0.9201\n",
            "Epoch 3/20\n",
            "2845/2847 [============================>.] - ETA: 0s - loss: 0.2358 - accuracy: 0.9256\n",
            "Epoch 3: val_loss improved from 0.23668 to 0.21529, saving model to ./drive/MyDrive/train_ckpt/spectrogram/exp1\n",
            "2847/2847 [==============================] - 33s 12ms/step - loss: 0.2356 - accuracy: 0.9257 - val_loss: 0.2153 - val_accuracy: 0.9300\n",
            "Epoch 4/20\n",
            "2845/2847 [============================>.] - ETA: 0s - loss: 0.1930 - accuracy: 0.9379\n",
            "Epoch 4: val_loss improved from 0.21529 to 0.19518, saving model to ./drive/MyDrive/train_ckpt/spectrogram/exp1\n",
            "2847/2847 [==============================] - 36s 12ms/step - loss: 0.1929 - accuracy: 0.9379 - val_loss: 0.1952 - val_accuracy: 0.9407\n",
            "Epoch 5/20\n",
            "2845/2847 [============================>.] - ETA: 0s - loss: 0.1613 - accuracy: 0.9475\n",
            "Epoch 5: val_loss did not improve from 0.19518\n",
            "2847/2847 [==============================] - 32s 11ms/step - loss: 0.1612 - accuracy: 0.9475 - val_loss: 0.1996 - val_accuracy: 0.9351\n",
            "Epoch 6/20\n",
            "2842/2847 [============================>.] - ETA: 0s - loss: 0.1428 - accuracy: 0.9536\n",
            "Epoch 6: val_loss did not improve from 0.19518\n",
            "2847/2847 [==============================] - 32s 11ms/step - loss: 0.1427 - accuracy: 0.9536 - val_loss: 0.1997 - val_accuracy: 0.9383\n",
            "Epoch 7/20\n",
            "2843/2847 [============================>.] - ETA: 0s - loss: 0.1253 - accuracy: 0.9585\n",
            "Epoch 7: val_loss improved from 0.19518 to 0.15540, saving model to ./drive/MyDrive/train_ckpt/spectrogram/exp1\n",
            "2847/2847 [==============================] - 31s 11ms/step - loss: 0.1253 - accuracy: 0.9584 - val_loss: 0.1554 - val_accuracy: 0.9492\n",
            "Epoch 8/20\n",
            "2842/2847 [============================>.] - ETA: 0s - loss: 0.1183 - accuracy: 0.9608\n",
            "Epoch 8: val_loss did not improve from 0.15540\n",
            "2847/2847 [==============================] - 30s 10ms/step - loss: 0.1182 - accuracy: 0.9608 - val_loss: 0.1826 - val_accuracy: 0.9430\n",
            "Epoch 9/20\n",
            "2845/2847 [============================>.] - ETA: 0s - loss: 0.1050 - accuracy: 0.9643\n",
            "Epoch 9: val_loss did not improve from 0.15540\n",
            "2847/2847 [==============================] - 30s 11ms/step - loss: 0.1049 - accuracy: 0.9643 - val_loss: 0.1636 - val_accuracy: 0.9509\n",
            "Epoch 10/20\n",
            "2847/2847 [==============================] - ETA: 0s - loss: 0.0956 - accuracy: 0.9684\n",
            "Epoch 10: val_loss did not improve from 0.15540\n",
            "2847/2847 [==============================] - 30s 10ms/step - loss: 0.0956 - accuracy: 0.9684 - val_loss: 0.1630 - val_accuracy: 0.9508\n",
            "Epoch 11/20\n",
            "2846/2847 [============================>.] - ETA: 0s - loss: 0.0894 - accuracy: 0.9696\n",
            "Epoch 11: val_loss did not improve from 0.15540\n",
            "2847/2847 [==============================] - 30s 11ms/step - loss: 0.0895 - accuracy: 0.9696 - val_loss: 0.2062 - val_accuracy: 0.9436\n",
            "Epoch 12/20\n",
            "2846/2847 [============================>.] - ETA: 0s - loss: 0.0870 - accuracy: 0.9705\n",
            "Epoch 12: val_loss improved from 0.15540 to 0.13080, saving model to ./drive/MyDrive/train_ckpt/spectrogram/exp1\n",
            "2847/2847 [==============================] - 31s 11ms/step - loss: 0.0870 - accuracy: 0.9705 - val_loss: 0.1308 - val_accuracy: 0.9612\n",
            "Epoch 13/20\n",
            "2843/2847 [============================>.] - ETA: 0s - loss: 0.0831 - accuracy: 0.9724\n",
            "Epoch 13: val_loss did not improve from 0.13080\n",
            "2847/2847 [==============================] - 33s 12ms/step - loss: 0.0831 - accuracy: 0.9724 - val_loss: 0.1390 - val_accuracy: 0.9585\n",
            "Epoch 14/20\n",
            "2843/2847 [============================>.] - ETA: 0s - loss: 0.0789 - accuracy: 0.9736\n",
            "Epoch 14: val_loss did not improve from 0.13080\n",
            "2847/2847 [==============================] - 31s 11ms/step - loss: 0.0790 - accuracy: 0.9736 - val_loss: 0.1657 - val_accuracy: 0.9511\n",
            "Epoch 15/20\n",
            "2843/2847 [============================>.] - ETA: 0s - loss: 0.0747 - accuracy: 0.9739\n",
            "Epoch 15: val_loss did not improve from 0.13080\n",
            "2847/2847 [==============================] - 32s 11ms/step - loss: 0.0746 - accuracy: 0.9740 - val_loss: 0.1475 - val_accuracy: 0.9575\n",
            "Epoch 16/20\n",
            "2844/2847 [============================>.] - ETA: 0s - loss: 0.0688 - accuracy: 0.9772\n",
            "Epoch 16: val_loss did not improve from 0.13080\n",
            "2847/2847 [==============================] - 33s 12ms/step - loss: 0.0687 - accuracy: 0.9772 - val_loss: 0.1343 - val_accuracy: 0.9598\n",
            "Epoch 17/20\n",
            "2845/2847 [============================>.] - ETA: 0s - loss: 0.0688 - accuracy: 0.9767\n",
            "Epoch 17: val_loss did not improve from 0.13080\n",
            "2847/2847 [==============================] - 31s 11ms/step - loss: 0.0688 - accuracy: 0.9767 - val_loss: 0.1457 - val_accuracy: 0.9585\n",
            "Epoch 18/20\n",
            "2845/2847 [============================>.] - ETA: 0s - loss: 0.0644 - accuracy: 0.9785\n",
            "Epoch 18: val_loss did not improve from 0.13080\n",
            "2847/2847 [==============================] - 31s 11ms/step - loss: 0.0644 - accuracy: 0.9785 - val_loss: 0.1449 - val_accuracy: 0.9555\n",
            "Epoch 19/20\n",
            "2843/2847 [============================>.] - ETA: 0s - loss: 0.0616 - accuracy: 0.9788\n",
            "Epoch 19: val_loss improved from 0.13080 to 0.12794, saving model to ./drive/MyDrive/train_ckpt/spectrogram/exp1\n",
            "2847/2847 [==============================] - 34s 12ms/step - loss: 0.0616 - accuracy: 0.9788 - val_loss: 0.1279 - val_accuracy: 0.9620\n",
            "Epoch 20/20\n",
            "2845/2847 [============================>.] - ETA: 0s - loss: 0.0622 - accuracy: 0.9786\n",
            "Epoch 20: val_loss improved from 0.12794 to 0.12298, saving model to ./drive/MyDrive/train_ckpt/spectrogram/exp1\n",
            "2847/2847 [==============================] - 31s 11ms/step - loss: 0.0622 - accuracy: 0.9787 - val_loss: 0.1230 - val_accuracy: 0.9604\n"
          ]
        }
      ]
    },
    {
      "cell_type": "markdown",
      "metadata": {
        "id": "RMk4bWh1kquU"
      },
      "source": [
        "* 학습 결과 확인"
      ]
    },
    {
      "cell_type": "code",
      "metadata": {
        "id": "Ep7mink9sHE4",
        "colab": {
          "base_uri": "https://localhost:8080/",
          "height": 699
        },
        "outputId": "c0dffbbc-5bdf-4905-a7a7-7e2af8019316"
      },
      "source": [
        "acc = history.history['accuracy']\n",
        "val_acc = history.history['val_accuracy']\n",
        "\n",
        "loss=history.history['loss']\n",
        "val_loss=history.history['val_loss']\n",
        "\n",
        "epochs_range = range(len(acc))\n",
        "\n",
        "plt.figure(figsize=(8, 8))\n",
        "plt.subplot(1, 2, 1)\n",
        "plt.plot(epochs_range, acc, label='Training Accuracy')\n",
        "plt.plot(epochs_range, val_acc, label='Validation Accuracy')\n",
        "plt.legend(loc='lower right')\n",
        "plt.title('Training and Validation Accuracy')\n",
        "\n",
        "plt.subplot(1, 2, 2)\n",
        "plt.plot(epochs_range, loss, label='Training Loss')\n",
        "plt.plot(epochs_range, val_loss, label='Validation Loss')\n",
        "plt.legend(loc='upper right')\n",
        "plt.title('Training and Validation Loss')\n",
        "plt.show()"
      ],
      "execution_count": 43,
      "outputs": [
        {
          "output_type": "display_data",
          "data": {
            "text/plain": [
              "<Figure size 800x800 with 2 Axes>"
            ],
            "image/png": "[encoded data removed]"
          },
          "metadata": {}
        }
      ]
    },
    {
      "cell_type": "markdown",
      "metadata": {
        "id": "gRjMdOed6B9U"
      },
      "source": [
        "## Evaluation\n",
        "* Test dataset을 이용해서 모델의 성능을 평가합니다."
      ]
    },
    {
      "cell_type": "code",
      "metadata": {
        "id": "jtNWcBnq0LXs"
      },
      "source": [
        "model.load_weights(checkpoint_dir)"
      ],
      "execution_count": null,
      "outputs": []
    },
    {
      "cell_type": "code",
      "metadata": {
        "id": "wjaqdVwjsHE7",
        "colab": {
          "base_uri": "https://localhost:8080/"
        },
        "outputId": "cdc81f70-8518-4f81-c65b-60b402be588b"
      },
      "source": [
        "results = model.evaluate(test_dataset)"
      ],
      "execution_count": 45,
      "outputs": [
        {
          "output_type": "stream",
          "name": "stdout",
          "text": [
            "317/317 [==============================] - 2s 7ms/step - loss: 0.1228 - accuracy: 0.9605\n"
          ]
        }
      ]
    },
    {
      "cell_type": "markdown",
      "metadata": {
        "id": "l3oIE73DSxFR"
      },
      "source": [
        "### 스코어 결과\n",
        "* 위의 스코어는 분류모델에 적용되는 스코어입니다.\n",
        "* 모델의 크기 (MB) 와 정확도를 이용해 스코어를 출력합니다."
      ]
    },
    {
      "cell_type": "code",
      "metadata": {
        "id": "srOVztfNsHE_"
      },
      "source": [
        "def final_score():\n",
        "    print(\"Model params num : \" + str(model.count_params()))\n",
        "    print(\"Accuracy : \" + str(results[1]))\n",
        "\n",
        "    s = (model.count_params() * 32) / (1024 ** 2)\n",
        "    score = 50 * (results[1] + min((1/s), 1))\n",
        "\n",
        "    print(\"score : \" + str(score))"
      ],
      "execution_count": 46,
      "outputs": []
    },
    {
      "cell_type": "code",
      "metadata": {
        "id": "akh6IYvsSyg3",
        "colab": {
          "base_uri": "https://localhost:8080/"
        },
        "outputId": "6ea49100-7a11-458d-d159-769198104b18"
      },
      "source": [
        "final_score()"
      ],
      "execution_count": 47,
      "outputs": [
        {
          "output_type": "stream",
          "name": "stdout",
          "text": [
            "Model params num : 642684\n",
            "Accuracy : 0.9604899287223816\n",
            "score : 50.57380527218782\n"
          ]
        }
      ]
    }
  ]
}