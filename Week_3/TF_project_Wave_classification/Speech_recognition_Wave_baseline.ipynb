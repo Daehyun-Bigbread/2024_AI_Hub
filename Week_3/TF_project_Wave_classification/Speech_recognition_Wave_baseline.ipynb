{
  "cells": [
    {
      "cell_type": "markdown",
      "metadata": {
        "id": "s0hOgPd6phMx"
      },
      "source": [
        "# Simple speech recognition\n",
        "\n",
        "Audio 데이터를 다뤄서 학습하는 방법을 배워보도록 합시다.\n",
        "머신러닝 작업과정은 아래와 같습니다.\n",
        "\n",
        "1. Examine and understand data\n",
        "2. Build an input pipeline\n",
        "3. Build the model\n",
        "4. Train the model\n",
        "5. Test the model\n",
        "6. Improve the model and repeat the process\n",
        "\n",
        "* 모델 완성 후 평가 지표에 따라서 모델을 평가해 봅시다."
      ]
    },
    {
      "cell_type": "code",
      "execution_count": null,
      "metadata": {
        "colab": {
          "base_uri": "https://localhost:8080/"
        },
        "id": "OmybO4CK7RrE",
        "outputId": "86ba2fab-7ac4-42c3-a40a-285b05149278"
      },
      "outputs": [
        {
          "name": "stdout",
          "output_type": "stream",
          "text": [
            "Tue Jan  2 03:43:34 2024       \n",
            "+---------------------------------------------------------------------------------------+\n",
            "| NVIDIA-SMI 535.104.05             Driver Version: 535.104.05   CUDA Version: 12.2     |\n",
            "|-----------------------------------------+----------------------+----------------------+\n",
            "| GPU  Name                 Persistence-M | Bus-Id        Disp.A | Volatile Uncorr. ECC |\n",
            "| Fan  Temp   Perf          Pwr:Usage/Cap |         Memory-Usage | GPU-Util  Compute M. |\n",
            "|                                         |                      |               MIG M. |\n",
            "|=========================================+======================+======================|\n",
            "|   0  Tesla T4                       Off | 00000000:00:04.0 Off |                    0 |\n",
            "| N/A   60C    P8              10W /  70W |      0MiB / 15360MiB |      0%      Default |\n",
            "|                                         |                      |                  N/A |\n",
            "+-----------------------------------------+----------------------+----------------------+\n",
            "                                                                                         \n",
            "+---------------------------------------------------------------------------------------+\n",
            "| Processes:                                                                            |\n",
            "|  GPU   GI   CI        PID   Type   Process name                            GPU Memory |\n",
            "|        ID   ID                                                             Usage      |\n",
            "|=======================================================================================|\n",
            "|  No running processes found                                                           |\n",
            "+---------------------------------------------------------------------------------------+\n"
          ]
        }
      ],
      "source": [
        "!nvidia-smi"
      ]
    },
    {
      "cell_type": "markdown",
      "metadata": {
        "id": "ZglPODWg4J9S"
      },
      "source": [
        "## Project 설명\n",
        "### Task\n",
        "* 1초 길이의 오디오 음성데이터를 이용해 단어를 분류하는 것이 목표입니다.\n",
        "* 주어진 데이터를 이용해 딥러닝 트레이닝 과정을 구현해 보는것이 목표입니다.\n",
        "* This code is borrowed from [Kaggle/TensorFlow Speech Recognition Challenge](https://www.kaggle.com/c/tensorflow-speech-recognition-challenge).\n",
        "* This is version 0.01 of the data set containing 64,727 audio files, released on August 3rd 2017.\n",
        "\n",
        "### Baseline\n",
        "* ResNet 구조와 유사한 skip connection 구조를 구현해 보자.\n",
        "* 오버피팅을 방지하기 위한 다양한 방법들을 사용해보자.\n",
        "* Training\n",
        "    * tf.data.dataset과 model.fit()을 사용"
      ]
    },
    {
      "cell_type": "markdown",
      "metadata": {
        "id": "1I3lhvzF4rKF"
      },
      "source": [
        "### Import packages\n",
        "\n",
        "* 우리가 사용할 packages 를 import 하는 부분 입니다.\n",
        "* 필요에 따른 packages를 선언합니다."
      ]
    },
    {
      "cell_type": "code",
      "execution_count": null,
      "metadata": {
        "colab": {
          "base_uri": "https://localhost:8080/",
          "height": 35
        },
        "id": "GVi6R2-_phMz",
        "outputId": "83a37cb9-8c0a-474c-a919-761e072254e0"
      },
      "outputs": [
        {
          "data": {
            "application/vnd.google.colaboratory.intrinsic+json": {
              "type": "string"
            },
            "text/plain": [
              "'2.15.0'"
            ]
          },
          "execution_count": 2,
          "metadata": {},
          "output_type": "execute_result"
        }
      ],
      "source": [
        "import tensorflow as tf\n",
        "from tensorflow.keras import layers\n",
        "import numpy as np\n",
        "import pandas as pd\n",
        "from sklearn.model_selection import train_test_split\n",
        "\n",
        "import librosa\n",
        "import librosa.display\n",
        "import matplotlib.pyplot as plt\n",
        "\n",
        "import os\n",
        "from os.path import isdir, join\n",
        "\n",
        "import random\n",
        "import copy\n",
        "import sys\n",
        "\n",
        "tf.__version__"
      ]
    },
    {
      "cell_type": "markdown",
      "metadata": {
        "id": "e8pXqNOekZf3"
      },
      "source": [
        "### Import modules\n",
        "\n",
        "* Colab 적용을 위한 변수 지정 및 드라이브 마운트"
      ]
    },
    {
      "cell_type": "code",
      "execution_count": null,
      "metadata": {
        "id": "wARwEZj9p18i"
      },
      "outputs": [],
      "source": [
        "use_colab = True\n",
        "assert use_colab in [True, False]"
      ]
    },
    {
      "cell_type": "code",
      "execution_count": null,
      "metadata": {
        "colab": {
          "base_uri": "https://localhost:8080/"
        },
        "id": "6Ri_lXEU2h3O",
        "outputId": "d65ba8b7-831b-46cb-dfe7-24ef678dd9b5"
      },
      "outputs": [
        {
          "name": "stdout",
          "output_type": "stream",
          "text": [
            "Mounted at /content/drive\n"
          ]
        }
      ],
      "source": [
        "from google.colab import drive\n",
        "drive.mount('/content/drive')"
      ]
    },
    {
      "cell_type": "markdown",
      "metadata": {
        "id": "Etgn2vm3phM4"
      },
      "source": [
        "### Load dataset\n",
        "* 사용할 데이터셋을 살펴봅시다."
      ]
    },
    {
      "cell_type": "code",
      "execution_count": null,
      "metadata": {
        "id": "5u05iC7S2f8P"
      },
      "outputs": [],
      "source": [
        "if use_colab:\n",
        "    DATASET_PATH = \"/content/drive/MyDrive/dataset/wave_cls\"\n",
        "else:\n",
        "    DATASET_PATH = \"./\"\n",
        "\n",
        "if not os.path.isdir(DATASET_PATH):\n",
        "    os.makedirs(DATASET_PATH)"
      ]
    },
    {
      "cell_type": "code",
      "execution_count": null,
      "metadata": {
        "id": "wBxkj9UsphM5"
      },
      "outputs": [],
      "source": [
        "# npz 파일은 npy 파일들을 압축한 파일입니다.\n",
        "speech_data = np.load(os.path.join(DATASET_PATH, \"speech_wav_8000.npz\"))"
      ]
    },
    {
      "cell_type": "markdown",
      "metadata": {
        "id": "naPxNijActj0"
      },
      "source": [
        "* npz 형태의 파일은 npy의 압축형태이며, files 이름 내에 데이터를 저장하고 불러올 수 있습니다.\n",
        "* files를 출력하면, 데이터가 어떤 key값으로 저장되어 있는지 확인할 수 있습니다!"
      ]
    },
    {
      "cell_type": "code",
      "execution_count": null,
      "metadata": {
        "colab": {
          "base_uri": "https://localhost:8080/"
        },
        "id": "nUc0eQoXWFfI",
        "outputId": "d7db5ee2-e787-4cb2-e554-1e84dfd8c4eb"
      },
      "outputs": [
        {
          "name": "stdout",
          "output_type": "stream",
          "text": [
            "['wav_vals', 'label_vals']\n"
          ]
        }
      ],
      "source": [
        "# files를 입력해보시면, 압축된 파일(npy)들의 종류를 확인할 수 있습니다.\n",
        "print(speech_data.files)"
      ]
    },
    {
      "cell_type": "markdown",
      "metadata": {
        "id": "vufn8u33cz6n"
      },
      "source": [
        "* 각 데이터가 어떤 형태로 저장되어 있는지 확인해봅시다."
      ]
    },
    {
      "cell_type": "code",
      "execution_count": null,
      "metadata": {
        "colab": {
          "base_uri": "https://localhost:8080/"
        },
        "id": "07X7jASNU2k9",
        "outputId": "5f8b7d79-342f-411c-97df-5c134b3c9a9d"
      },
      "outputs": [
        {
          "name": "stdout",
          "output_type": "stream",
          "text": [
            "(50620, 8000) (50620, 1)\n"
          ]
        }
      ],
      "source": [
        "# 불러온 데이터들의 모양\n",
        "print(speech_data[\"wav_vals\"].shape, speech_data[\"label_vals\"].shape)\n",
        "# labels 는 현재 text 상태이기 때문에 추후에 index(int)형태로 바꿔주게 됩니다."
      ]
    },
    {
      "cell_type": "markdown",
      "metadata": {
        "id": "rV3CZQzidlr_"
      },
      "source": [
        "* 숫자로 이뤄진 데이터가 진짜 오디오 데이터가 맞는지 확인해봅시다."
      ]
    },
    {
      "cell_type": "code",
      "execution_count": null,
      "metadata": {
        "id": "XkLu-SwkYUPW"
      },
      "outputs": [],
      "source": [
        "idx = 219\n",
        "test_audio = speech_data[\"wav_vals\"][idx]\n",
        "test_labels = speech_data[\"label_vals\"][idx]"
      ]
    },
    {
      "cell_type": "code",
      "execution_count": null,
      "metadata": {
        "colab": {
          "base_uri": "https://localhost:8080/",
          "height": 92
        },
        "id": "wKceRI7UXmfv",
        "outputId": "ef4dab99-956d-40b6-a6e6-4d06141af2df"
      },
      "outputs": [
        {
          "name": "stdout",
          "output_type": "stream",
          "text": [
            "['down']\n"
          ]
        },
        {
          "data": {
            "text/html": [
              "\n",
              "                <audio  controls=\"controls\" >\n",
              "                    <source src=\"data:audio/wav;base64,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\" type=\"audio/wav\" />\n",
              "                    Your browser does not support the audio element.\n",
              "                </audio>\n",
              "              "
            ],
            "text/plain": [
              "<IPython.lib.display.Audio object>"
            ]
          },
          "execution_count": 10,
          "metadata": {},
          "output_type": "execute_result"
        }
      ],
      "source": [
        "import IPython.display as ipd\n",
        "\n",
        "sr = 8000 # 1초동안 재생되는 샘플의 갯수\n",
        "data = test_audio\n",
        "\n",
        "print(test_labels)\n",
        "ipd.Audio(data, rate=sr)"
      ]
    },
    {
      "cell_type": "markdown",
      "metadata": {
        "id": "QWAbi_w0phM9"
      },
      "source": [
        "### Model dataset setting\n",
        "* 변환된 데이터를 이용해서 학습에 활용할 데이터셋을 설정한다."
      ]
    },
    {
      "cell_type": "code",
      "execution_count": null,
      "metadata": {
        "colab": {
          "base_uri": "https://localhost:8080/"
        },
        "id": "Kl5pQr-WphM-",
        "outputId": "fe1b3415-a4e6-4d4c-c8ff-57e08decaed7"
      },
      "outputs": [
        {
          "name": "stdout",
          "output_type": "stream",
          "text": [
            "(45558, 8000, 1)\n",
            "(5062, 8000, 1)\n",
            "(45558, 1)\n",
            "(5062, 1)\n"
          ]
        }
      ],
      "source": [
        "sr = 8000 # 음성파일의 sample rate가 8000 인 것을 확인\n",
        "train_wav, test_wav, train_label, test_label = train_test_split(speech_data[\"wav_vals\"], # wav 파일들의 데이터\n",
        "                                                                speech_data[\"label_vals\"], # label 파일들의 데이터\n",
        "                                                                test_size=0.1, # 비율 train, test를 몇퍼센트의 비율로 나눌지\n",
        "                                                                shuffle=True) # 섞을 것인지?\n",
        "                                                                #(파일, 정답) 이 형태로 섞어주게됩니다.\n",
        "\n",
        "# for convolution layers\n",
        "#[40000, 8000] => [40000, 8000, 1] => 40000 * 8000 == 40000 * 8000 * 1\n",
        "# reshape은 항상 데이터의 총량이 변하지 않도록 설정해주시면 됩니다.\n",
        "train_wav = train_wav.reshape([-1, sr, 1]) # channel [data len, 8000] -> [data len, 8000, 1]\n",
        "test_wav = test_wav.reshape([-1, sr, 1])\n",
        "# (50000, 8000, 1)\n",
        "\n",
        "print(train_wav.shape)\n",
        "print(test_wav.shape)\n",
        "print(train_label.shape)\n",
        "print(test_label.shape)"
      ]
    },
    {
      "cell_type": "markdown",
      "metadata": {
        "id": "Vsob1V4QY_1-"
      },
      "source": [
        "### Label 데이터를 구분해보자\n",
        "* 현재 정답 데이터는 다양한 단어들이 섞여 있다."
      ]
    },
    {
      "cell_type": "code",
      "execution_count": null,
      "metadata": {
        "colab": {
          "base_uri": "https://localhost:8080/"
        },
        "id": "3Zu_XcYLZE_7",
        "outputId": "e09c2aef-0662-4adb-83bd-b5016827ef88"
      },
      "outputs": [
        {
          "data": {
            "text/plain": [
              "{'down',\n",
              " 'go',\n",
              " 'left',\n",
              " 'no',\n",
              " 'off',\n",
              " 'on',\n",
              " 'right',\n",
              " 'silence',\n",
              " 'stop',\n",
              " 'unknown',\n",
              " 'up',\n",
              " 'yes'}"
            ]
          },
          "execution_count": 12,
          "metadata": {},
          "output_type": "execute_result"
        }
      ],
      "source": [
        "# 사용되는 모든 라벨을 가져다 set으로 설정 => 중복제거\n",
        "set(speech_data[\"label_vals\"].flatten())"
      ]
    },
    {
      "cell_type": "code",
      "execution_count": null,
      "metadata": {
        "id": "W8BVZj5zfWLq"
      },
      "outputs": [],
      "source": [
        "# del raw dataset for mem\n",
        "del speech_data"
      ]
    },
    {
      "cell_type": "markdown",
      "metadata": {
        "id": "yQbpXmA5e9_I"
      },
      "source": [
        "* 총 12개의 클래스르 분류하는 작업이된다.\n",
        "* unknown과 silence에는 target list 이외의 단어가 들어간다. (혹은 노이즈)"
      ]
    },
    {
      "cell_type": "code",
      "execution_count": null,
      "metadata": {
        "id": "jVsnK_FaphNC"
      },
      "outputs": [],
      "source": [
        "# target list\n",
        "label_value = ['yes', 'no', 'up', 'down', 'left', 'right', 'on',\n",
        "               'off', 'stop', 'go', 'unknown', 'silence']\n",
        "\n",
        "new_label_value = dict() # 사전에 입력\n",
        "for i, l in enumerate(label_value):\n",
        "    new_label_value[l] = i\n",
        "label_value = new_label_value # 일종의 번역사전을 만들게 됩니다."
      ]
    },
    {
      "cell_type": "code",
      "execution_count": null,
      "metadata": {
        "colab": {
          "base_uri": "https://localhost:8080/"
        },
        "id": "C4iNBnn_AZxF",
        "outputId": "14a76917-e2be-4946-83af-a5495c056cf3"
      },
      "outputs": [
        {
          "data": {
            "text/plain": [
              "{'yes': 0,\n",
              " 'no': 1,\n",
              " 'up': 2,\n",
              " 'down': 3,\n",
              " 'left': 4,\n",
              " 'right': 5,\n",
              " 'on': 6,\n",
              " 'off': 7,\n",
              " 'stop': 8,\n",
              " 'go': 9,\n",
              " 'unknown': 10,\n",
              " 'silence': 11}"
            ]
          },
          "execution_count": 15,
          "metadata": {},
          "output_type": "execute_result"
        }
      ],
      "source": [
        "label_value"
      ]
    },
    {
      "cell_type": "markdown",
      "metadata": {
        "id": "Y3bOhkcnfGyj"
      },
      "source": [
        "* Text 데이터를 index 데이터로 변환\n",
        "    * CIFAR10 데이터셋에서 이미 처리되었던 부분"
      ]
    },
    {
      "cell_type": "code",
      "execution_count": null,
      "metadata": {
        "id": "L0aAi4F_phNF"
      },
      "outputs": [],
      "source": [
        "# temp 변수를 이용해서 기존 text 형태인 label을 idx 형태로 변경해준다.\n",
        "temp = []\n",
        "for v in train_label:\n",
        "    temp.append(label_value[v[0]])\n",
        "train_label = np.array(temp)\n",
        "\n",
        "temp = []\n",
        "for v in test_label:\n",
        "    temp.append(label_value[v[0]])\n",
        "test_label = np.array(temp)\n",
        "\n",
        "del temp"
      ]
    },
    {
      "cell_type": "code",
      "execution_count": null,
      "metadata": {
        "colab": {
          "base_uri": "https://localhost:8080/"
        },
        "id": "57Pwj0sLphNI",
        "outputId": "3c3b5a62-25d0-47f4-fc5d-ee2fc958375c"
      },
      "outputs": [
        {
          "name": "stdout",
          "output_type": "stream",
          "text": [
            "Train_Wav Demension : (45558, 8000, 1)\n",
            "Train_Label Demension : (45558,)\n",
            "Test_Wav Demension : (5062, 8000, 1)\n",
            "Test_Label Demension : (5062,)\n",
            "Number Of Labels : 12\n"
          ]
        }
      ],
      "source": [
        "print('Train_Wav Demension : ' + str(np.shape(train_wav)))\n",
        "print('Train_Label Demension : ' + str(np.shape(train_label)))\n",
        "print('Test_Wav Demension : ' + str(np.shape(test_wav)))\n",
        "print('Test_Label Demension : ' + str(np.shape(test_label)))\n",
        "print('Number Of Labels : ' + str(len(label_value)))"
      ]
    },
    {
      "cell_type": "markdown",
      "metadata": {
        "id": "n0xoCzJi1D-A"
      },
      "source": [
        "### Checkpoint setting\n",
        "* 학습 전반에서 사용할 checkpoint dir을 설정한다."
      ]
    },
    {
      "cell_type": "code",
      "execution_count": null,
      "metadata": {
        "id": "Qbn4AG0F1EG8"
      },
      "outputs": [],
      "source": [
        "# the save point 설정\n",
        "if use_colab:\n",
        "    checkpoint_dir ='./drive/My Drive/train_ckpt/wave/exp1'\n",
        "    if not os.path.isdir(checkpoint_dir):\n",
        "        os.makedirs(checkpoint_dir)\n",
        "else:\n",
        "    checkpoint_dir = 'wave/exp1'"
      ]
    },
    {
      "cell_type": "markdown",
      "metadata": {
        "id": "DDB47399bPKf"
      },
      "source": [
        "### Dataset 구성"
      ]
    },
    {
      "cell_type": "code",
      "execution_count": null,
      "metadata": {
        "id": "zA4D6kmyphNM"
      },
      "outputs": [],
      "source": [
        "# mapping 함수를 이용해 데이터셋 아웃풋을 처리\n",
        "def one_hot_label(wav, label):\n",
        "    label = tf.one_hot(label, depth=12)\n",
        "    return wav, label"
      ]
    },
    {
      "cell_type": "code",
      "execution_count": null,
      "metadata": {
        "colab": {
          "base_uri": "https://localhost:8080/"
        },
        "id": "50FegMTNphNQ",
        "outputId": "cc50f573-cc7a-4f99-a887-e1cc7b7ccd0a"
      },
      "outputs": [
        {
          "name": "stdout",
          "output_type": "stream",
          "text": [
            "<_BatchDataset element_spec=(TensorSpec(shape=(None, 8000, 1), dtype=tf.float32, name=None), TensorSpec(shape=(None, 12), dtype=tf.float32, name=None))>\n",
            "<_BatchDataset element_spec=(TensorSpec(shape=(None, 8000, 1), dtype=tf.float32, name=None), TensorSpec(shape=(None, 12), dtype=tf.float32, name=None))>\n"
          ]
        }
      ],
      "source": [
        "batch_size = 256\n",
        "\n",
        "# for train\n",
        "train_dataset = tf.data.Dataset.from_tensor_slices((train_wav, train_label))\n",
        "train_dataset = train_dataset.map(one_hot_label)\n",
        "train_dataset = train_dataset.shuffle(len(train_wav)).repeat().batch(batch_size=batch_size)\n",
        "print(train_dataset) # 10000\n",
        "\n",
        "# for test\n",
        "test_dataset = tf.data.Dataset.from_tensor_slices((test_wav, test_label))\n",
        "test_dataset = test_dataset.map(one_hot_label)\n",
        "test_dataset = test_dataset.batch(batch_size=batch_size) # 테스트때는 섞을 필요가 없다!\n",
        "print(test_dataset)"
      ]
    },
    {
      "cell_type": "markdown",
      "metadata": {
        "id": "4HAo9tTuRttY"
      },
      "source": [
        "### Dataset 구성 검증\n",
        "```\n",
        "<BatchDataset shapes: ((None, 8000, 1), (None, 12)), types: (tf.float32, tf.float32)>\n",
        "<BatchDataset shapes: ((None, 8000, 1), (None, 12)), types: (tf.float32, tf.float32)>\n",
        "```"
      ]
    },
    {
      "cell_type": "markdown",
      "metadata": {
        "id": "HVlQ7tGRkZwc"
      },
      "source": [
        "### Model 구현\n",
        "* Wave 파일 데이터를 이용해 학습을 할 수 있는 모델을 구현합니다."
      ]
    },
    {
      "cell_type": "code",
      "execution_count": null,
      "metadata": {
        "id": "7TTeiXif_SfU"
      },
      "outputs": [],
      "source": [
        "# input_tensor = layers.Input(shape=(sr, 1,))\n",
        "# x = layers.Conv1D(16, 9, padding='same', activation='relu')(input_tensor)\n",
        "# # x = layers.MaxPool1D()(x)\n",
        "# x = layers.Conv1D(16, 9, strides=2, padding='same', activation='relu')(x)\n",
        "\n",
        "# x = layers.Conv1D(32, 9, padding='same', activation='relu')(x)\n",
        "# x = layers.Conv1D(32, 9, strides=2, padding='same', activation='relu')(x)\n",
        "\n",
        "# x = layers.Conv1D(64, 9, padding='same', activation='relu')(x)\n",
        "# x = layers.Conv1D(64, 9, padding='same', activation='relu')(x)\n",
        "# x = layers.Conv1D(64, 9, strides=2, padding='same', activation='relu')(x)\n",
        "\n",
        "# x = layers.Conv1D(128, 9, padding='same', activation='relu')(x)\n",
        "# x = layers.Conv1D(128, 9, padding='same', activation='relu')(x)\n",
        "# x = layers.Conv1D(128, 9, strides=2, padding='same', activation='relu')(x)\n",
        "# x = layers.Dropout(0.3)(x)\n",
        "\n",
        "# x = layers.Flatten()(x)\n",
        "# x = layers.Dense(64)(x)\n",
        "# x = layers.BatchNormalization()(x)\n",
        "# x = layers.Activation('relu')(x)\n",
        "\n",
        "# output_tensor = layers.Dense(12)(x)\n",
        "\n",
        "# model = tf.keras.Model(input_tensor, output_tensor)"
      ]
    },
    {
      "cell_type": "code",
      "execution_count": null,
      "metadata": {
        "id": "imYxkRlyphNT"
      },
      "outputs": [],
      "source": [
        "input_tensor = layers.Input(shape=(sr, 1,))\n",
        "x = layers.Conv1D(16, 9, padding='same', activation='relu')(input_tensor)\n",
        "skip_1 = layers.Conv1D(16, 9, strides=2, padding='same', activation='relu')(x)\n",
        "\n",
        "x = layers.Conv1D(32, 9, padding='same', activation='relu')(skip_1)\n",
        "x = tf.concat([x, skip_1], axis=-1)\n",
        "skip_2 = layers.Conv1D(32, 9, strides=2, padding='same', activation='relu')(x)\n",
        "\n",
        "x = layers.Conv1D(64, 9, padding='same', activation='relu')(skip_2)\n",
        "x = layers.Conv1D(64, 9, padding='same', activation='relu')(x)\n",
        "x = tf.concat([x, skip_2], -1)\n",
        "skip_3 = layers.Conv1D(64, 9, strides=2, padding='same', activation='relu')(x)\n",
        "\n",
        "x = layers.Conv1D(128, 9, padding='same', activation='relu')(skip_3)\n",
        "x = layers.Conv1D(128, 9, padding='same', activation='relu')(x)\n",
        "x = tf.concat([x, skip_3], -1)\n",
        "x = layers.Conv1D(128, 9, strides=2, padding='same', activation='relu')(x)\n",
        "x = layers.Dropout(0.3)(x)\n",
        "\n",
        "x = layers.Flatten()(x)\n",
        "x = layers.Dense(64)(x)\n",
        "x = layers.BatchNormalization()(x)\n",
        "x = layers.Activation('relu')(x)\n",
        "\n",
        "output_tensor = layers.Dense(12)(x)\n",
        "\n",
        "model = tf.keras.Model(input_tensor, output_tensor)"
      ]
    },
    {
      "cell_type": "code",
      "execution_count": null,
      "metadata": {
        "id": "igiurfQXphNY"
      },
      "outputs": [],
      "source": [
        "optimizer=tf.keras.optimizers.Adam(1e-4) # learning rate\n",
        "model.compile(loss=tf.keras.losses.CategoricalCrossentropy(from_logits=True), # categorical_crossentropy => from_logits=False 고정\n",
        "             optimizer=optimizer,\n",
        "             metrics=['accuracy'])"
      ]
    },
    {
      "cell_type": "code",
      "execution_count": null,
      "metadata": {
        "colab": {
          "base_uri": "https://localhost:8080/"
        },
        "id": "4_DpuDp3phNb",
        "outputId": "90613393-1562-47d6-ff08-008fe298f208"
      },
      "outputs": [
        {
          "name": "stdout",
          "output_type": "stream",
          "text": [
            "Predictions:  [[-2.1547452e-04  1.2101388e-03 -4.9958640e-04  7.5468328e-05\n",
            "  -2.5618757e-04 -1.2610324e-03 -1.6661994e-03 -1.3213139e-03\n",
            "   3.6875083e-04 -3.6953756e-04 -9.3216577e-04  6.0636876e-04]]\n"
          ]
        }
      ],
      "source": [
        "# without training, just inference a model in eager execution:\n",
        "predictions = model(train_wav[0:1], training=False)\n",
        "print(\"Predictions: \", predictions.numpy())"
      ]
    },
    {
      "cell_type": "code",
      "execution_count": null,
      "metadata": {
        "colab": {
          "base_uri": "https://localhost:8080/"
        },
        "id": "3PhoJx8wphNe",
        "outputId": "078f6395-53b4-40ee-c6e1-a893bfb92740"
      },
      "outputs": [
        {
          "name": "stdout",
          "output_type": "stream",
          "text": [
            "Model: \"model\"\n",
            "__________________________________________________________________________________________________\n",
            " Layer (type)                Output Shape                 Param #   Connected to                  \n",
            "==================================================================================================\n",
            " input_1 (InputLayer)        [(None, 8000, 1)]            0         []                            \n",
            "                                                                                                  \n",
            " conv1d (Conv1D)             (None, 8000, 16)             160       ['input_1[0][0]']             \n",
            "                                                                                                  \n",
            " conv1d_1 (Conv1D)           (None, 4000, 16)             2320      ['conv1d[0][0]']              \n",
            "                                                                                                  \n",
            " conv1d_2 (Conv1D)           (None, 4000, 32)             4640      ['conv1d_1[0][0]']            \n",
            "                                                                                                  \n",
            " tf.concat (TFOpLambda)      (None, 4000, 48)             0         ['conv1d_2[0][0]',            \n",
            "                                                                     'conv1d_1[0][0]']            \n",
            "                                                                                                  \n",
            " conv1d_3 (Conv1D)           (None, 2000, 32)             13856     ['tf.concat[0][0]']           \n",
            "                                                                                                  \n",
            " conv1d_4 (Conv1D)           (None, 2000, 64)             18496     ['conv1d_3[0][0]']            \n",
            "                                                                                                  \n",
            " conv1d_5 (Conv1D)           (None, 2000, 64)             36928     ['conv1d_4[0][0]']            \n",
            "                                                                                                  \n",
            " tf.concat_1 (TFOpLambda)    (None, 2000, 96)             0         ['conv1d_5[0][0]',            \n",
            "                                                                     'conv1d_3[0][0]']            \n",
            "                                                                                                  \n",
            " conv1d_6 (Conv1D)           (None, 1000, 64)             55360     ['tf.concat_1[0][0]']         \n",
            "                                                                                                  \n",
            " conv1d_7 (Conv1D)           (None, 1000, 128)            73856     ['conv1d_6[0][0]']            \n",
            "                                                                                                  \n",
            " conv1d_8 (Conv1D)           (None, 1000, 128)            147584    ['conv1d_7[0][0]']            \n",
            "                                                                                                  \n",
            " tf.concat_2 (TFOpLambda)    (None, 1000, 192)            0         ['conv1d_8[0][0]',            \n",
            "                                                                     'conv1d_6[0][0]']            \n",
            "                                                                                                  \n",
            " conv1d_9 (Conv1D)           (None, 500, 128)             221312    ['tf.concat_2[0][0]']         \n",
            "                                                                                                  \n",
            " dropout (Dropout)           (None, 500, 128)             0         ['conv1d_9[0][0]']            \n",
            "                                                                                                  \n",
            " flatten (Flatten)           (None, 64000)                0         ['dropout[0][0]']             \n",
            "                                                                                                  \n",
            " dense (Dense)               (None, 64)                   4096064   ['flatten[0][0]']             \n",
            "                                                                                                  \n",
            " batch_normalization (Batch  (None, 64)                   256       ['dense[0][0]']               \n",
            " Normalization)                                                                                   \n",
            "                                                                                                  \n",
            " activation (Activation)     (None, 64)                   0         ['batch_normalization[0][0]'] \n",
            "                                                                                                  \n",
            " dense_1 (Dense)             (None, 12)                   780       ['activation[0][0]']          \n",
            "                                                                                                  \n",
            "==================================================================================================\n",
            "Total params: 4671612 (17.82 MB)\n",
            "Trainable params: 4671484 (17.82 MB)\n",
            "Non-trainable params: 128 (512.00 Byte)\n",
            "__________________________________________________________________________________________________\n"
          ]
        }
      ],
      "source": [
        "model.summary()"
      ]
    },
    {
      "cell_type": "code",
      "execution_count": null,
      "metadata": {
        "colab": {
          "base_uri": "https://localhost:8080/",
          "height": 1000
        },
        "id": "N7LsJXFA9Wp-",
        "outputId": "e29fd866-3b4c-4e5f-9db1-5a423d7ca6d0"
      },
      "outputs": [
        {
          "data": {
            "image/png": "[encoded data removed]",
            "text/plain": [
              "<IPython.core.display.Image object>"
            ]
          },
          "execution_count": 26,
          "metadata": {},
          "output_type": "execute_result"
        }
      ],
      "source": [
        "tf.keras.utils.plot_model(model, show_shapes=True, dpi=64)"
      ]
    },
    {
      "cell_type": "markdown",
      "metadata": {
        "id": "wMMneOo2bIvz"
      },
      "source": [
        "### Model training\n",
        "* 모델 체크포인트로 저장공간을 확인 후 학습을 진행합니다."
      ]
    },
    {
      "cell_type": "code",
      "execution_count": null,
      "metadata": {
        "id": "5V_3I0W11MrR"
      },
      "outputs": [],
      "source": [
        "cp_callback = tf.keras.callbacks.ModelCheckpoint(checkpoint_dir,\n",
        "                                                 save_weights_only=True,\n",
        "                                                 monitor='val_loss',\n",
        "                                                 mode='auto',\n",
        "                                                 save_best_only=True,\n",
        "                                                 verbose=1)\n",
        "\n",
        "early_stopping_cb = tf.keras.callbacks.EarlyStopping(patience=10,\n",
        "                                                     monitor='val_loss',\n",
        "                                                     restore_best_weights=True,\n",
        "                                                     verbose=1)"
      ]
    },
    {
      "cell_type": "code",
      "execution_count": null,
      "metadata": {
        "id": "e-Xrf1xgEn3l"
      },
      "outputs": [],
      "source": [
        "max_epochs = 100\n",
        "\n",
        "cos_decay = tf.keras.experimental.CosineDecay(1e-4,\n",
        "                                              max_epochs * 1.5)\n",
        "lr_callback = tf.keras.callbacks.LearningRateScheduler(cos_decay, verbose=1)"
      ]
    },
    {
      "cell_type": "code",
      "execution_count": null,
      "metadata": {
        "colab": {
          "background_save": true,
          "base_uri": "https://localhost:8080/"
        },
        "id": "KygmTczhphNg",
        "outputId": "8157fa6c-81f3-43c7-f71e-5ebee97f24a0"
      },
      "outputs": [
        {
          "name": "stdout",
          "output_type": "stream",
          "text": [
            "\n",
            "Epoch 1: LearningRateScheduler setting learning rate to 9.999999747378752e-05.\n",
            "Epoch 1/100\n",
            "177/177 [==============================] - ETA: 0s - loss: 1.9917 - accuracy: 0.3203\n",
            "Epoch 1: val_loss improved from inf to 2.23595, saving model to ./drive/My Drive/train_ckpt/wave/exp1\n",
            "177/177 [==============================] - 90s 411ms/step - loss: 1.9917 - accuracy: 0.3203 - val_loss: 2.2360 - val_accuracy: 0.4116 - lr: 1.0000e-04\n",
            "\n",
            "Epoch 2: LearningRateScheduler setting learning rate to 9.998903260566294e-05.\n",
            "Epoch 2/100\n",
            "177/177 [==============================] - ETA: 0s - loss: 1.4739 - accuracy: 0.5407\n",
            "Epoch 2: val_loss improved from 2.23595 to 1.69464, saving model to ./drive/My Drive/train_ckpt/wave/exp1\n",
            "177/177 [==============================] - 73s 413ms/step - loss: 1.4739 - accuracy: 0.5407 - val_loss: 1.6946 - val_accuracy: 0.5444 - lr: 9.9989e-05\n",
            "\n",
            "Epoch 3: LearningRateScheduler setting learning rate to 9.995613800128922e-05.\n",
            "Epoch 3/100\n",
            "177/177 [==============================] - ETA: 0s - loss: 1.2186 - accuracy: 0.6497\n",
            "Epoch 3: val_loss improved from 1.69464 to 1.33033, saving model to ./drive/My Drive/train_ckpt/wave/exp1\n",
            "177/177 [==============================] - 74s 417ms/step - loss: 1.2186 - accuracy: 0.6497 - val_loss: 1.3303 - val_accuracy: 0.6051 - lr: 9.9956e-05\n",
            "\n",
            "Epoch 4: LearningRateScheduler setting learning rate to 9.990133548853919e-05.\n",
            "Epoch 4/100\n",
            "177/177 [==============================] - ETA: 0s - loss: 1.0171 - accuracy: 0.7231\n",
            "Epoch 4: val_loss improved from 1.33033 to 1.04546, saving model to ./drive/My Drive/train_ckpt/wave/exp1\n",
            "177/177 [==============================] - 73s 413ms/step - loss: 1.0171 - accuracy: 0.7231 - val_loss: 1.0455 - val_accuracy: 0.6947 - lr: 9.9901e-05\n",
            "\n",
            "Epoch 5: LearningRateScheduler setting learning rate to 9.982463961932808e-05.\n",
            "Epoch 5/100\n",
            "177/177 [==============================] - ETA: 0s - loss: 0.8320 - accuracy: 0.7847\n",
            "Epoch 5: val_loss improved from 1.04546 to 0.84544, saving model to ./drive/My Drive/train_ckpt/wave/exp1\n",
            "177/177 [==============================] - 73s 413ms/step - loss: 0.8320 - accuracy: 0.7847 - val_loss: 0.8454 - val_accuracy: 0.7642 - lr: 9.9825e-05\n",
            "\n",
            "Epoch 6: LearningRateScheduler setting learning rate to 9.972608677344397e-05.\n",
            "Epoch 6/100\n",
            "177/177 [==============================] - ETA: 0s - loss: 0.6812 - accuracy: 0.8296\n",
            "Epoch 6: val_loss improved from 0.84544 to 0.72198, saving model to ./drive/My Drive/train_ckpt/wave/exp1\n",
            "177/177 [==============================] - 74s 416ms/step - loss: 0.6812 - accuracy: 0.8296 - val_loss: 0.7220 - val_accuracy: 0.7993 - lr: 9.9726e-05\n",
            "\n",
            "Epoch 7: LearningRateScheduler setting learning rate to 9.960573515854776e-05.\n",
            "Epoch 7/100\n",
            "177/177 [==============================] - ETA: 0s - loss: 0.5562 - accuracy: 0.8682\n",
            "Epoch 7: val_loss improved from 0.72198 to 0.63850, saving model to ./drive/My Drive/train_ckpt/wave/exp1\n",
            "177/177 [==============================] - 74s 416ms/step - loss: 0.5562 - accuracy: 0.8682 - val_loss: 0.6385 - val_accuracy: 0.8279 - lr: 9.9606e-05\n",
            "\n",
            "Epoch 8: LearningRateScheduler setting learning rate to 9.946361387846991e-05.\n",
            "Epoch 8/100\n",
            "177/177 [==============================] - ETA: 0s - loss: 0.4624 - accuracy: 0.8955\n",
            "Epoch 8: val_loss improved from 0.63850 to 0.62847, saving model to ./drive/My Drive/train_ckpt/wave/exp1\n",
            "177/177 [==============================] - 73s 414ms/step - loss: 0.4624 - accuracy: 0.8955 - val_loss: 0.6285 - val_accuracy: 0.8248 - lr: 9.9464e-05\n",
            "\n",
            "Epoch 9: LearningRateScheduler setting learning rate to 9.929979569278657e-05.\n",
            "Epoch 9/100\n",
            "177/177 [==============================] - ETA: 0s - loss: 0.3912 - accuracy: 0.9167\n",
            "Epoch 9: val_loss improved from 0.62847 to 0.58100, saving model to ./drive/My Drive/train_ckpt/wave/exp1\n",
            "177/177 [==============================] - 73s 414ms/step - loss: 0.3912 - accuracy: 0.9167 - val_loss: 0.5810 - val_accuracy: 0.8357 - lr: 9.9300e-05\n",
            "\n",
            "Epoch 10: LearningRateScheduler setting learning rate to 9.911435336107388e-05.\n",
            "Epoch 10/100\n",
            "177/177 [==============================] - ETA: 0s - loss: 0.3294 - accuracy: 0.9339\n",
            "Epoch 10: val_loss improved from 0.58100 to 0.47900, saving model to ./drive/My Drive/train_ckpt/wave/exp1\n",
            "177/177 [==============================] - 74s 417ms/step - loss: 0.3294 - accuracy: 0.9339 - val_loss: 0.4790 - val_accuracy: 0.8779 - lr: 9.9114e-05\n",
            "\n",
            "Epoch 11: LearningRateScheduler setting learning rate to 9.890738147078082e-05.\n",
            "Epoch 11/100\n",
            "177/177 [==============================] - ETA: 0s - loss: 0.2759 - accuracy: 0.9474\n",
            "Epoch 11: val_loss improved from 0.47900 to 0.41727, saving model to ./drive/My Drive/train_ckpt/wave/exp1\n",
            "177/177 [==============================] - 73s 414ms/step - loss: 0.2759 - accuracy: 0.9474 - val_loss: 0.4173 - val_accuracy: 0.8884 - lr: 9.8907e-05\n",
            "\n",
            "Epoch 12: LearningRateScheduler setting learning rate to 9.867894550552592e-05.\n",
            "Epoch 12/100\n",
            "177/177 [==============================] - ETA: 0s - loss: 0.2388 - accuracy: 0.9556\n",
            "Epoch 12: val_loss improved from 0.41727 to 0.40843, saving model to ./drive/My Drive/train_ckpt/wave/exp1\n",
            "177/177 [==============================] - 74s 416ms/step - loss: 0.2388 - accuracy: 0.9556 - val_loss: 0.4084 - val_accuracy: 0.8871 - lr: 9.8679e-05\n",
            "\n",
            "Epoch 13: LearningRateScheduler setting learning rate to 9.842915460467339e-05.\n",
            "Epoch 13/100\n",
            "177/177 [==============================] - ETA: 0s - loss: 0.2008 - accuracy: 0.9652\n",
            "Epoch 13: val_loss improved from 0.40843 to 0.36865, saving model to ./drive/My Drive/train_ckpt/wave/exp1\n",
            "177/177 [==============================] - 74s 416ms/step - loss: 0.2008 - accuracy: 0.9652 - val_loss: 0.3686 - val_accuracy: 0.9013 - lr: 9.8429e-05\n",
            "\n",
            "Epoch 14: LearningRateScheduler setting learning rate to 9.815812518354505e-05.\n",
            "Epoch 14/100\n",
            "177/177 [==============================] - ETA: 0s - loss: 0.1761 - accuracy: 0.9704\n",
            "Epoch 14: val_loss did not improve from 0.36865\n",
            "177/177 [==============================] - 73s 415ms/step - loss: 0.1761 - accuracy: 0.9704 - val_loss: 0.3716 - val_accuracy: 0.8980 - lr: 9.8158e-05\n",
            "\n",
            "Epoch 15: LearningRateScheduler setting learning rate to 9.786597365746275e-05.\n",
            "Epoch 15/100\n",
            "177/177 [==============================] - ETA: 0s - loss: 0.1529 - accuracy: 0.9740\n",
            "Epoch 15: val_loss improved from 0.36865 to 0.33658, saving model to ./drive/My Drive/train_ckpt/wave/exp1\n",
            "177/177 [==============================] - 74s 417ms/step - loss: 0.1529 - accuracy: 0.9740 - val_loss: 0.3366 - val_accuracy: 0.9079 - lr: 9.7866e-05\n",
            "\n",
            "Epoch 16: LearningRateScheduler setting learning rate to 9.75528237177059e-05.\n",
            "Epoch 16/100\n",
            "177/177 [==============================] - ETA: 0s - loss: 0.1343 - accuracy: 0.9772\n",
            "Epoch 16: val_loss did not improve from 0.33658\n",
            "177/177 [==============================] - 73s 415ms/step - loss: 0.1343 - accuracy: 0.9772 - val_loss: 0.3366 - val_accuracy: 0.9118 - lr: 9.7553e-05\n",
            "\n",
            "Epoch 17: LearningRateScheduler setting learning rate to 9.72188136074692e-05.\n",
            "Epoch 17/100\n",
            "177/177 [==============================] - ETA: 0s - loss: 0.1224 - accuracy: 0.9793\n",
            "Epoch 17: val_loss improved from 0.33658 to 0.33489, saving model to ./drive/My Drive/train_ckpt/wave/exp1\n",
            "177/177 [==============================] - 73s 415ms/step - loss: 0.1224 - accuracy: 0.9793 - val_loss: 0.3349 - val_accuracy: 0.9067 - lr: 9.7219e-05\n",
            "\n",
            "Epoch 18: LearningRateScheduler setting learning rate to 9.686409612186253e-05.\n",
            "Epoch 18/100\n",
            "177/177 [==============================] - ETA: 0s - loss: 0.1093 - accuracy: 0.9818\n",
            "Epoch 18: val_loss improved from 0.33489 to 0.32459, saving model to ./drive/My Drive/train_ckpt/wave/exp1\n",
            "177/177 [==============================] - 74s 416ms/step - loss: 0.1093 - accuracy: 0.9818 - val_loss: 0.3246 - val_accuracy: 0.9083 - lr: 9.6864e-05\n",
            "\n",
            "Epoch 19: LearningRateScheduler setting learning rate to 9.648881678003818e-05.\n",
            "Epoch 19/100\n",
            "177/177 [==============================] - ETA: 0s - loss: 0.0982 - accuracy: 0.9829\n",
            "Epoch 19: val_loss improved from 0.32459 to 0.30139, saving model to ./drive/My Drive/train_ckpt/wave/exp1\n",
            "177/177 [==============================] - 74s 417ms/step - loss: 0.0982 - accuracy: 0.9829 - val_loss: 0.3014 - val_accuracy: 0.9130 - lr: 9.6489e-05\n",
            "\n",
            "Epoch 20: LearningRateScheduler setting learning rate to 9.609315020497888e-05.\n",
            "Epoch 20/100\n",
            "177/177 [==============================] - ETA: 0s - loss: 0.0896 - accuracy: 0.9847\n",
            "Epoch 20: val_loss did not improve from 0.30139\n",
            "177/177 [==============================] - 73s 413ms/step - loss: 0.0896 - accuracy: 0.9847 - val_loss: 0.3568 - val_accuracy: 0.9032 - lr: 9.6093e-05\n",
            "\n",
            "Epoch 21: LearningRateScheduler setting learning rate to 9.567726374370977e-05.\n",
            "Epoch 21/100\n",
            "177/177 [==============================] - ETA: 0s - loss: 0.0813 - accuracy: 0.9854\n",
            "Epoch 21: val_loss improved from 0.30139 to 0.29627, saving model to ./drive/My Drive/train_ckpt/wave/exp1\n",
            "177/177 [==============================] - 74s 416ms/step - loss: 0.0813 - accuracy: 0.9854 - val_loss: 0.2963 - val_accuracy: 0.9126 - lr: 9.5677e-05\n",
            "\n",
            "Epoch 22: LearningRateScheduler setting learning rate to 9.524135384708643e-05.\n",
            "Epoch 22/100\n",
            "177/177 [==============================] - ETA: 0s - loss: 0.0760 - accuracy: 0.9859\n",
            "Epoch 22: val_loss did not improve from 0.29627\n",
            "177/177 [==============================] - 73s 412ms/step - loss: 0.0760 - accuracy: 0.9859 - val_loss: 0.2985 - val_accuracy: 0.9143 - lr: 9.5241e-05\n",
            "\n",
            "Epoch 23: LearningRateScheduler setting learning rate to 9.478558786213398e-05.\n",
            "Epoch 23/100\n",
            "177/177 [==============================] - ETA: 0s - loss: 0.0679 - accuracy: 0.9878\n",
            "Epoch 23: val_loss did not improve from 0.29627\n",
            "177/177 [==============================] - 73s 413ms/step - loss: 0.0679 - accuracy: 0.9878 - val_loss: 0.3250 - val_accuracy: 0.9073 - lr: 9.4786e-05\n",
            "\n",
            "Epoch 24: LearningRateScheduler setting learning rate to 9.431017679162323e-05.\n",
            "Epoch 24/100\n",
            "177/177 [==============================] - ETA: 0s - loss: 0.0642 - accuracy: 0.9887\n",
            "Epoch 24: val_loss did not improve from 0.29627\n",
            "177/177 [==============================] - 73s 415ms/step - loss: 0.0642 - accuracy: 0.9887 - val_loss: 0.3129 - val_accuracy: 0.9139 - lr: 9.4310e-05\n",
            "\n",
            "Epoch 25: LearningRateScheduler setting learning rate to 9.381533891428262e-05.\n",
            "Epoch 25/100\n",
            "177/177 [==============================] - ETA: 0s - loss: 0.0617 - accuracy: 0.9883\n",
            "Epoch 25: val_loss improved from 0.29627 to 0.28952, saving model to ./drive/My Drive/train_ckpt/wave/exp1\n",
            "177/177 [==============================] - 74s 416ms/step - loss: 0.0617 - accuracy: 0.9883 - val_loss: 0.2895 - val_accuracy: 0.9176 - lr: 9.3815e-05\n",
            "\n",
            "Epoch 26: LearningRateScheduler setting learning rate to 9.330127068096772e-05.\n",
            "Epoch 26/100\n",
            "177/177 [==============================] - ETA: 0s - loss: 0.0550 - accuracy: 0.9897\n",
            "Epoch 26: val_loss improved from 0.28952 to 0.28413, saving model to ./drive/My Drive/train_ckpt/wave/exp1\n",
            "177/177 [==============================] - 73s 414ms/step - loss: 0.0550 - accuracy: 0.9897 - val_loss: 0.2841 - val_accuracy: 0.9180 - lr: 9.3301e-05\n",
            "\n",
            "Epoch 27: LearningRateScheduler setting learning rate to 9.27682121982798e-05.\n",
            "Epoch 27/100\n",
            "177/177 [==============================] - ETA: 0s - loss: 0.0531 - accuracy: 0.9899\n",
            "Epoch 27: val_loss did not improve from 0.28413\n",
            "177/177 [==============================] - 73s 415ms/step - loss: 0.0531 - accuracy: 0.9899 - val_loss: 0.2897 - val_accuracy: 0.9208 - lr: 9.2768e-05\n",
            "\n",
            "Epoch 28: LearningRateScheduler setting learning rate to 9.221639629686251e-05.\n",
            "Epoch 28/100\n",
            "177/177 [==============================] - ETA: 0s - loss: 0.0513 - accuracy: 0.9898\n",
            "Epoch 28: val_loss did not improve from 0.28413\n",
            "177/177 [==============================] - 73s 413ms/step - loss: 0.0513 - accuracy: 0.9898 - val_loss: 0.3372 - val_accuracy: 0.9139 - lr: 9.2216e-05\n",
            "\n",
            "Epoch 29: LearningRateScheduler setting learning rate to 9.164606308331713e-05.\n",
            "Epoch 29/100\n",
            "177/177 [==============================] - ETA: 0s - loss: 0.0503 - accuracy: 0.9900\n",
            "Epoch 29: val_loss improved from 0.28413 to 0.26973, saving model to ./drive/My Drive/train_ckpt/wave/exp1\n",
            "177/177 [==============================] - 73s 414ms/step - loss: 0.0503 - accuracy: 0.9900 - val_loss: 0.2697 - val_accuracy: 0.9211 - lr: 9.1646e-05\n",
            "\n",
            "Epoch 30: LearningRateScheduler setting learning rate to 9.105745994020253e-05.\n",
            "Epoch 30/100\n",
            "177/177 [==============================] - ETA: 0s - loss: 0.0463 - accuracy: 0.9906\n",
            "Epoch 30: val_loss did not improve from 0.26973\n",
            "177/177 [==============================] - 73s 412ms/step - loss: 0.0463 - accuracy: 0.9906 - val_loss: 0.2959 - val_accuracy: 0.9159 - lr: 9.1057e-05\n",
            "\n",
            "Epoch 31: LearningRateScheduler setting learning rate to 9.045084152603522e-05.\n",
            "Epoch 31/100\n",
            "177/177 [==============================] - ETA: 0s - loss: 0.0439 - accuracy: 0.9914\n",
            "Epoch 31: val_loss did not improve from 0.26973\n",
            "177/177 [==============================] - 73s 413ms/step - loss: 0.0439 - accuracy: 0.9914 - val_loss: 0.2938 - val_accuracy: 0.9204 - lr: 9.0451e-05\n",
            "\n",
            "Epoch 32: LearningRateScheduler setting learning rate to 8.982649887911975e-05.\n",
            "Epoch 32/100\n",
            "177/177 [==============================] - ETA: 0s - loss: 0.0436 - accuracy: 0.9911\n",
            "Epoch 32: val_loss did not improve from 0.26973\n",
            "177/177 [==============================] - 73s 413ms/step - loss: 0.0436 - accuracy: 0.9911 - val_loss: 0.2756 - val_accuracy: 0.9262 - lr: 8.9826e-05\n",
            "\n",
            "Epoch 33: LearningRateScheduler setting learning rate to 8.91846721060574e-05.\n",
            "Epoch 33/100\n",
            "177/177 [==============================] - ETA: 0s - loss: 0.0409 - accuracy: 0.9920\n",
            "Epoch 33: val_loss did not improve from 0.26973\n",
            "177/177 [==============================] - 73s 415ms/step - loss: 0.0409 - accuracy: 0.9920 - val_loss: 0.2960 - val_accuracy: 0.9190 - lr: 8.9185e-05\n",
            "\n",
            "Epoch 34: LearningRateScheduler setting learning rate to 8.852565952111036e-05.\n",
            "Epoch 34/100\n",
            "177/177 [==============================] - ETA: 0s - loss: 0.0375 - accuracy: 0.9922\n",
            "Epoch 34: val_loss did not improve from 0.26973\n",
            "177/177 [==============================] - 73s 412ms/step - loss: 0.0375 - accuracy: 0.9922 - val_loss: 0.2947 - val_accuracy: 0.9192 - lr: 8.8526e-05\n",
            "\n",
            "Epoch 35: LearningRateScheduler setting learning rate to 8.784974488662556e-05.\n",
            "Epoch 35/100\n",
            "177/177 [==============================] - ETA: 0s - loss: 0.0368 - accuracy: 0.9922\n",
            "Epoch 35: val_loss did not improve from 0.26973\n",
            "177/177 [==============================] - 73s 415ms/step - loss: 0.0368 - accuracy: 0.9922 - val_loss: 0.3919 - val_accuracy: 0.8931 - lr: 8.7850e-05\n",
            "\n",
            "Epoch 36: LearningRateScheduler setting learning rate to 8.715723379282281e-05.\n",
            "Epoch 36/100\n",
            "177/177 [==============================] - ETA: 0s - loss: 0.0348 - accuracy: 0.9925\n",
            "Epoch 36: val_loss did not improve from 0.26973\n",
            "177/177 [==============================] - 73s 412ms/step - loss: 0.0348 - accuracy: 0.9925 - val_loss: 0.3363 - val_accuracy: 0.9075 - lr: 8.7157e-05\n",
            "\n",
            "Epoch 37: LearningRateScheduler setting learning rate to 8.64484318299219e-05.\n",
            "Epoch 37/100\n",
            "177/177 [==============================] - ETA: 0s - loss: 0.0343 - accuracy: 0.9923\n",
            "Epoch 37: val_loss did not improve from 0.26973\n",
            "177/177 [==============================] - 73s 412ms/step - loss: 0.0343 - accuracy: 0.9923 - val_loss: 0.2915 - val_accuracy: 0.9211 - lr: 8.6448e-05\n",
            "\n",
            "Epoch 38: LearningRateScheduler setting learning rate to 8.57236300362274e-05.\n",
            "Epoch 38/100\n",
            "177/177 [==============================] - ETA: 0s - loss: 0.0335 - accuracy: 0.9925\n",
            "Epoch 38: val_loss did not improve from 0.26973\n",
            "177/177 [==============================] - 73s 412ms/step - loss: 0.0335 - accuracy: 0.9925 - val_loss: 0.3344 - val_accuracy: 0.9106 - lr: 8.5724e-05\n",
            "\n",
            "Epoch 39: LearningRateScheduler setting learning rate to 8.498317038174719e-05.\n",
            "Epoch 39/100\n",
            "177/177 [==============================] - ETA: 0s - loss: 0.0295 - accuracy: 0.9933\n",
            "Epoch 39: val_loss did not improve from 0.26973\n",
            "Restoring model weights from the end of the best epoch: 29.\n",
            "177/177 [==============================] - 73s 411ms/step - loss: 0.0295 - accuracy: 0.9933 - val_loss: 0.3049 - val_accuracy: 0.9182 - lr: 8.4983e-05\n",
            "Epoch 39: early stopping\n"
          ]
        }
      ],
      "source": [
        "# using `tf.data.Dataset`\n",
        "# 학습을 이어 진행할때 필요한 부분이고, 이어 진핼할때 추가해주시면 됩니다.\n",
        "# model.load_weights(checkpoint_dir)\n",
        "\n",
        "history = model.fit(train_dataset,\n",
        "                    epochs=max_epochs,\n",
        "                    steps_per_epoch=len(train_wav) // batch_size,\n",
        "                    validation_data=test_dataset,\n",
        "                    validation_steps=len(test_wav) // batch_size,\n",
        "                    callbacks=[lr_callback, cp_callback, early_stopping_cb]\n",
        "                    )"
      ]
    },
    {
      "cell_type": "markdown",
      "metadata": {
        "id": "44ZAf1ldaCkz"
      },
      "source": [
        "### 학습 결과 확인\n",
        "* model fit의 return 값인 history에서 학습에 대한 결과를 확인해보자"
      ]
    },
    {
      "cell_type": "code",
      "execution_count": null,
      "metadata": {
        "colab": {
          "background_save": true
        },
        "id": "NaLXC0aKphNj",
        "outputId": "e4d3b8cb-3fe5-477b-e1f7-b5feb8d41a17"
      },
      "outputs": [
        {
          "data": {
            "image/png": "[encoded data removed]",
            "text/plain": [
              "<Figure size 800x800 with 2 Axes>"
            ]
          },
          "metadata": {},
          "output_type": "display_data"
        }
      ],
      "source": [
        "acc = history.history['accuracy']\n",
        "val_acc = history.history['val_accuracy']\n",
        "\n",
        "loss=history.history['loss']\n",
        "val_loss=history.history['val_loss']\n",
        "\n",
        "epochs_range = range(len(acc))\n",
        "\n",
        "plt.figure(figsize=(8, 8))\n",
        "plt.subplot(1, 2, 1)\n",
        "plt.plot(epochs_range, acc, label='Training Accuracy')\n",
        "plt.plot(epochs_range, val_acc, label='Validation Accuracy')\n",
        "plt.legend(loc='lower right')\n",
        "plt.title('Training and Validation Accuracy')\n",
        "\n",
        "plt.subplot(1, 2, 2)\n",
        "plt.plot(epochs_range, loss, label='Training Loss')\n",
        "plt.plot(epochs_range, val_loss, label='Validation Loss')\n",
        "plt.legend(loc='upper right')\n",
        "plt.title('Training and Validation Loss')\n",
        "plt.show()"
      ]
    },
    {
      "cell_type": "markdown",
      "metadata": {
        "id": "mGn-bvDej1Wz"
      },
      "source": [
        "## Evaluation\n",
        "* Test dataset을 이용해서 모델의 성능을 평가합니다."
      ]
    },
    {
      "cell_type": "code",
      "execution_count": null,
      "metadata": {
        "colab": {
          "background_save": true
        },
        "id": "jclBKezE1YKr",
        "outputId": "bf23c597-b25f-474d-c2b6-3bf1d93bd392"
      },
      "outputs": [
        {
          "data": {
            "text/plain": [
              "<tensorflow.python.checkpoint.checkpoint.CheckpointLoadStatus at 0x7ed8702d0c40>"
            ]
          },
          "execution_count": 31,
          "metadata": {},
          "output_type": "execute_result"
        }
      ],
      "source": [
        "model.load_weights(checkpoint_dir)"
      ]
    },
    {
      "cell_type": "code",
      "execution_count": null,
      "metadata": {
        "colab": {
          "background_save": true
        },
        "id": "6VonCCKaphNm",
        "outputId": "2b8fbb68-d100-4164-c310-2bf1817382b1"
      },
      "outputs": [
        {
          "name": "stdout",
          "output_type": "stream",
          "text": [
            "20/20 [==============================] - 5s 248ms/step - loss: 0.2724 - accuracy: 0.9206\n"
          ]
        }
      ],
      "source": [
        "results = model.evaluate(test_dataset)"
      ]
    },
    {
      "cell_type": "markdown",
      "metadata": {
        "id": "Pz6DBBuPbEhM"
      },
      "source": [
        "### 스코어 결과\n",
        "* 위의 스코어는 분류모델에 적용되는 스코어입니다.\n",
        "* 모델의 크기 (MB) 와 정확도를 이용해 스코어를 출력합니다."
      ]
    },
    {
      "cell_type": "code",
      "execution_count": null,
      "metadata": {
        "colab": {
          "background_save": true
        },
        "id": "fJ6TU2s36-To"
      },
      "outputs": [],
      "source": [
        "def final_score():\n",
        "    print(\"Model params num : \" + str(model.count_params()))\n",
        "    print(\"Accuracy : \" + str(results[1]))\n",
        "\n",
        "    s = (model.count_params() * 32) / (1024 ** 2)\n",
        "    score = 50 * (results[1] + min((1/s), 1))\n",
        "\n",
        "    print(\"score : \" + str(score))"
      ]
    },
    {
      "cell_type": "code",
      "execution_count": null,
      "metadata": {
        "colab": {
          "background_save": true
        },
        "id": "35_0lz1KaBgc",
        "outputId": "a1cc593c-322d-481e-84ec-73b52f04c664"
      },
      "outputs": [
        {
          "name": "stdout",
          "output_type": "stream",
          "text": [
            "Model params num : 4671612\n",
            "Accuracy : 0.9205847382545471\n",
            "score : 46.379950970316045\n"
          ]
        }
      ],
      "source": [
        "final_score()"
      ]
    },
    {
      "cell_type": "code",
      "execution_count": null,
      "metadata": {
        "colab": {
          "background_save": true
        },
        "id": "Hem0e88_x2yr"
      },
      "outputs": [],
      "source": []
    }
  ],
  "metadata": {
    "accelerator": "GPU",
    "colab": {
      "provenance": []
    },
    "kernelspec": {
      "display_name": "Python 3",
      "name": "python3"
    },
    "language_info": {
      "codemirror_mode": {
        "name": "ipython",
        "version": 3
      },
      "file_extension": ".py",
      "mimetype": "text/x-python",
      "name": "python",
      "nbconvert_exporter": "python",
      "pygments_lexer": "ipython3",
      "version": "3.7.3"
    }
  },
  "nbformat": 4,
  "nbformat_minor": 0
}